{
 "cells": [
  {
   "cell_type": "markdown",
   "metadata": {
    "colab_type": "text",
    "id": "DGFrBsJOs8N6"
   },
   "source": [
    "# Turbofan POC - Initial Training and Model Serving\n",
    "\n",
    "This notebook is creating an initial model for predictions of the RUL for our turbofan engines."
   ]
  },
  {
   "cell_type": "markdown",
   "metadata": {
    "colab_type": "text",
    "id": "teKaiaP8A-pN"
   },
   "source": [
    "## Imports and Data Preprocessing"
   ]
  },
  {
   "cell_type": "code",
   "execution_count": null,
   "metadata": {
    "colab": {
     "base_uri": "https://localhost:8080/",
     "height": 156
    },
    "colab_type": "code",
    "executionInfo": {
     "elapsed": 26981,
     "status": "ok",
     "timestamp": 1582126813186,
     "user": {
      "displayName": "Matthias Lau",
      "photoUrl": "https://lh3.googleusercontent.com/a-/AAuE7mC6WRAXJoMqa4-OAv4EwNhkeeciSt5GDAExs2YBOg=s64",
      "userId": "11790472444495897059"
     },
     "user_tz": -60
    },
    "id": "1Krj0J83x5O8",
    "outputId": "1b4a0cea-c47e-41e9-82a2-9b816e3765e9",
    "tags": []
   },
   "outputs": [],
   "source": [
    "# check if we are inside google colab\n",
    "try:\n",
    "    from google.colab import drive\n",
    "    # mount gdrive for importing the data\n",
    "    drive.mount('/content/gdrive', force_remount=True)\n",
    "    # change this path to your notebooks directory inside google drive\n",
    "    %cd /content/gdrive/My\\ Drive/dev/turbofan_poc/notebooks\n",
    "\n",
    "    # set tensorflow version\n",
    "    %tensorflow_version 2.x\n",
    "except:\n",
    "    pass"
   ]
  },
  {
   "cell_type": "code",
   "execution_count": 1,
   "metadata": {
    "colab": {},
    "colab_type": "code",
    "id": "N61mNrV80NVr",
    "tags": []
   },
   "outputs": [],
   "source": [
    "import os\n",
    "import numpy as np\n",
    "import pandas as pd\n",
    "\n",
    "import torch\n",
    "import torch.nn as nn\n",
    "import torch.nn.functional as F\n",
    "import torch.optim as optim\n",
    "\n",
    "import seaborn as sns\n",
    "import matplotlib.pyplot as plt\n",
    "from amdex import *\n",
    "\n",
    "sns.set()"
   ]
  },
  {
   "cell_type": "code",
   "execution_count": 2,
   "metadata": {
    "colab": {},
    "colab_type": "code",
    "id": "RICPXgLi0g0R",
    "tags": []
   },
   "outputs": [],
   "source": [
    "# load the data \n",
    "data_folder_path = '/localstorage-trainer/data'\n",
    "model_data_path = '/localstorage-trainer/models/train_data_initial.txt'\n",
    "\n",
    "train_data_path = os.path.join(data_folder_path, 'train_data_initial.txt')\n",
    "train_data = pd.read_csv(train_data_path)\n",
    "train_data.set_index('time_in_cycles')\n",
    "\n",
    "val_data_path = os.path.join(data_folder_path, 'test_data_val.txt')\n",
    "val_data = pd.read_csv(val_data_path)\n",
    "val_data.set_index('time_in_cycles')\n",
    "\n",
    "test_data_path = os.path.join(data_folder_path, 'test_data_test.txt')\n",
    "test_data = pd.read_csv(test_data_path)\n",
    "test_data.set_index('time_in_cycles')\n",
    "\n",
    "# retrieve the max cycles per engine: RUL\n",
    "train_rul = pd.DataFrame(train_data.groupby('engine_no')['time_in_cycles'].max()).reset_index()\n",
    "# merge the RULs into the training data\n",
    "train_rul.columns = ['engine_no', 'max']\n",
    "train_data = train_data.merge(train_rul, on=['engine_no'], how='left')\n",
    "# add the current RUL for every cycle\n",
    "train_data['RUL'] = train_data['max'] - train_data['time_in_cycles']\n",
    "train_data.drop('max', axis=1, inplace=True)\n",
    "\n",
    "# test and validation data already contains the RUL values\n",
    "\n",
    "# drop the columns not needed\n",
    "cols_nan = train_data.columns[train_data.isna().any()].tolist()\n",
    "cols_const = [ col for col in train_data.columns if len(train_data[col].unique()) <= 2 ]\n",
    "\n",
    "# The operational settings 1 and 2 don´t have a trend and they look like random noise.\n",
    "# Sensors 11, 12, 13 could be removed due to high correlations but it should be tested.\n",
    "# The trend of sensors 9 and 14 depend on the specific engine. Some engines at the end\n",
    "# of life tend to increase while others tend to decrease. What is common about these\n",
    "# two sensors is that the magnitude at the end life gets amplified. We should try\n",
    "# removing both sensors.\n",
    "cols_irrelevant = ['operational_setting_1', 'operational_setting_2', 'sensor_measurement_11', 'sensor_measurement_12', 'sensor_measurement_13']\n",
    "\n",
    "# Drop the columns without or with constant data\n",
    "train_data = train_data.drop(columns=cols_const + cols_nan + cols_irrelevant)\n",
    "val_data = val_data.drop(columns=cols_const + cols_nan + cols_irrelevant)\n",
    "test_data = test_data.drop(columns=cols_const + cols_nan + cols_irrelevant)"
   ]
  },
  {
   "cell_type": "markdown",
   "metadata": {
    "colab_type": "text",
    "id": "S58onfDNdAmc",
    "tags": []
   },
   "source": [
    "## Permission Acquisition"
   ]
  },
  {
   "cell_type": "markdown",
   "metadata": {
    "colab_type": "text",
    "id": "S58onfDNdAmc"
   },
   "source": [
    "<!-- permission = amdex.training_can_be_executed(userid, datasets[], 'algo description')\n",
    "if(permission):\n",
    "    print(\"training can proceed\")\n",
    "else:\n",
    "    print(\"permission denied\") -->"
   ]
  },
  {
   "cell_type": "markdown",
   "metadata": {
    "colab_type": "text",
    "id": "S58onfDNdAmc"
   },
   "source": [
    "## Data Preparation"
   ]
  },
  {
   "cell_type": "code",
   "execution_count": 3,
   "metadata": {
    "colab": {},
    "colab_type": "code",
    "id": "fvj4QbzCXZCT",
    "tags": []
   },
   "outputs": [],
   "source": [
    "# define the columns for training\n",
    "train_data_inputs = train_data.copy()\n",
    "train_data_inputs.drop(columns=['RUL', 'engine_no', 'time_in_cycles'], inplace=True)\n",
    "training_columns = train_data_inputs.columns"
   ]
  },
  {
   "cell_type": "markdown",
   "metadata": {
    "colab_type": "text",
    "id": "1lQGejNWjwWO"
   },
   "source": [
    "### Windowing"
   ]
  },
  {
   "cell_type": "markdown",
   "metadata": {
    "colab_type": "text",
    "id": "KLyLG86M0Ffn"
   },
   "source": [
    "To do our model training we split the data from an engine into rolling windows so we have the dimensions (total number of rows, time steps per window, feature columns).\n",
    "\n",
    "*Engine x for window size 3:*\n",
    "\n",
    "```\n",
    "[1 2 3 4 5 6] -> [1 2 3], [2 3 4], [3 4 5], [4 5 6]\n",
    "```\n",
    "\n",
    "As labels we pick the RUL of the last value in the windowed sequence."
   ]
  },
  {
   "cell_type": "markdown",
   "metadata": {
    "colab_type": "text",
    "id": "Vt4z-bc_0Yr1"
   },
   "source": [
    "By splitting the data into windows we have to drop data samples that are smaller than the window size. This especially means we can not predict RUL values for smaller time series of engine data. An alternative would be to pad sequences so that we can use shorter ones."
   ]
  },
  {
   "cell_type": "code",
   "execution_count": 4,
   "metadata": {
    "colab": {},
    "colab_type": "code",
    "id": "D6hSngDtXC-f",
    "tags": []
   },
   "outputs": [],
   "source": [
    "WINDOW_SIZE = 80\n",
    "BATCH_SIZE = 210"
   ]
  },
  {
   "cell_type": "code",
   "execution_count": 5,
   "metadata": {
    "colab": {},
    "colab_type": "code",
    "id": "YWz7of5dXSr8",
    "tags": []
   },
   "outputs": [],
   "source": [
    "def transform_to_windowed_data(dataset, window_size, window_limit = 0, verbose = True):\n",
    "  \"\"\"Transform the dataset into input windows with a label.\n",
    "\n",
    "  Args:\n",
    "      dataset (DataFrame): The dataset to tranform.\n",
    "      window_size (int): The length of the windows to create.\n",
    "      window_limit (int): The max windows to create for a data subset.\n",
    "\n",
    "  Returns:\n",
    "      (numpy.array, numpy.array): A tuple of features and labels.\n",
    "  \"\"\"\n",
    "  features = []\n",
    "  labels = []\n",
    "\n",
    "  dataset = dataset.set_index('time_in_cycles')\n",
    "  data_per_engine = dataset.groupby('engine_no')\n",
    "\n",
    "  for engine_no, engine_data in data_per_engine:\n",
    "      # skip if the engines cycles are too few\n",
    "      if len(engine_data) < window_size + window_limit -1:\n",
    "        continue\n",
    "\n",
    "      if window_limit != 0:\n",
    "        window_count = window_limit\n",
    "      else:\n",
    "        window_count = len(engine_data) - window_size\n",
    "\n",
    "      for i in range(0, window_count):\n",
    "        # take the last x cycles where x is the window size\n",
    "        start = -window_size - i\n",
    "        end = len(engine_data) - i\n",
    "        inputs = engine_data.iloc[start:end]\n",
    "        # use the RUL of the last cycle as label\n",
    "        outputs = engine_data.iloc[end - 1, -1]\n",
    "\n",
    "        inputs = inputs.drop(['engine_no', 'RUL'], axis=1)\n",
    "\n",
    "        features.append(inputs.values)\n",
    "        labels.append(outputs)\n",
    "\n",
    "  features = np.array(features)\n",
    "  labels = np.array(labels)\n",
    "  labels = np.expand_dims(labels, axis=1)\n",
    "\n",
    "  if verbose:\n",
    "    print(\"{} features with shape {}\".format(len(features), features[0].shape))\n",
    "    print(\"{} labels with shape {}\".format(len(labels), labels.shape))\n",
    "\n",
    "  return features, labels"
   ]
  },
  {
   "cell_type": "code",
   "execution_count": 6,
   "metadata": {
    "colab": {
     "base_uri": "https://localhost:8080/",
     "height": 119
    },
    "colab_type": "code",
    "executionInfo": {
     "elapsed": 41696,
     "status": "ok",
     "timestamp": 1582126828101,
     "user": {
      "displayName": "Matthias Lau",
      "photoUrl": "https://lh3.googleusercontent.com/a-/AAuE7mC6WRAXJoMqa4-OAv4EwNhkeeciSt5GDAExs2YBOg=s64",
      "userId": "11790472444495897059"
     },
     "user_tz": -60
    },
    "id": "NZR_quyYaept",
    "outputId": "771aa845-d484-4225-ff52-36388f5e166e",
    "tags": []
   },
   "outputs": [
    {
     "name": "stdout",
     "output_type": "stream",
     "text": [
      "1256 features with shape (80, 11)\n",
      "1256 labels with shape (1256, 1)\n",
      "2601 features with shape (80, 11)\n",
      "2601 labels with shape (2601, 1)\n",
      "2982 features with shape (80, 11)\n",
      "2982 labels with shape (2982, 1)\n"
     ]
    }
   ],
   "source": [
    "x_train, y_train = transform_to_windowed_data(train_data, WINDOW_SIZE)\n",
    "x_val, y_val = transform_to_windowed_data(val_data, WINDOW_SIZE)\n",
    "x_test, y_test = transform_to_windowed_data(test_data, WINDOW_SIZE)"
   ]
  },
  {
   "cell_type": "markdown",
   "metadata": {
    "colab_type": "text",
    "id": "QQV2DnpgddIq",
    "tags": []
   },
   "source": [
    "### Standardization"
   ]
  },
  {
   "cell_type": "markdown",
   "metadata": {
    "colab_type": "text",
    "id": "Gi5NG6Vfw-yW"
   },
   "source": [
    "The data scaling will be embedded in the model so it could be easily applied to inference as well."
   ]
  },
  {
   "cell_type": "markdown",
   "metadata": {
    "colab_type": "text",
    "id": "HP84vJPW2m0I"
   },
   "source": [
    "### Response Clipping"
   ]
  },
  {
   "cell_type": "markdown",
   "metadata": {
    "colab_type": "text",
    "id": "IaMkCZCH2zpV"
   },
   "source": [
    "Since the degradation in a system will generally remain negligible until after some period of operation time the early and higher RUL values are probably unreasonable. We could tackle this by clipping the RUL values.\n",
    "\n",
    "That means we are fine with our model not correctly predicting RUL values above the *rul_clip_limit*. The model will still correctly identify that these engines but it is kind of cheating as the error for these engines improves."
   ]
  },
  {
   "cell_type": "code",
   "execution_count": 7,
   "metadata": {
    "colab": {},
    "colab_type": "code",
    "id": "qsK2hp6w2uLj",
    "tags": []
   },
   "outputs": [],
   "source": [
    "# clip RUL values\n",
    "rul_clip_limit = 110\n",
    "\n",
    "y_train = y_train.clip(max=rul_clip_limit)\n",
    "y_val = y_val.clip(max=rul_clip_limit)\n",
    "y_test = y_test.clip(max=rul_clip_limit)"
   ]
  },
  {
   "cell_type": "markdown",
   "metadata": {
    "colab_type": "text",
    "id": "gh2YaxoKsHiB"
   },
   "source": [
    "## Model Training"
   ]
  },
  {
   "cell_type": "markdown",
   "metadata": {
    "colab_type": "text",
    "id": "d9dwxhK5a0i6"
   },
   "source": [
    "### Helpers"
   ]
  },
  {
   "cell_type": "code",
   "execution_count": 8,
   "metadata": {
    "colab": {},
    "colab_type": "code",
    "id": "hREayPLsHGzA",
    "tags": []
   },
   "outputs": [],
   "source": [
    "# RMSE implementation\n",
    "def root_mean_squared_error(y_true, y_pred):\n",
    "    return np.sqrt(((y_true - y_pred) ** 2).mean())"
   ]
  },
  {
   "cell_type": "markdown",
   "metadata": {
    "colab_type": "text",
    "id": "9YgTLRF4avmo"
   },
   "source": [
    "### Model Definition"
   ]
  },
  {
   "cell_type": "code",
   "execution_count": 9,
   "metadata": {
    "colab": {},
    "colab_type": "code",
    "id": "geHwiNH1LmE4",
    "tags": []
   },
   "outputs": [],
   "source": [
    "class TurbofanModel(nn.Module):\n",
    "    def __init__(self, train_mean, train_std):\n",
    "        super().__init__()\n",
    "        \n",
    "        self.train_mean = train_mean\n",
    "        self.train_std = train_std\n",
    "\n",
    "        self.fc1 = nn.Linear(len(training_columns), 24)\n",
    "        self.fc2 = nn.Linear(24, 24)\n",
    "        self.fc3 = nn.Linear(24, 24)\n",
    "        self.fc4 = nn.Linear(24, 1)\n",
    "\n",
    "    def to(self, device):\n",
    "        super().to(device)\n",
    "        self.train_mean = self.train_mean.to(device)\n",
    "        self.train_std = self.train_std.to(device)\n",
    "        \n",
    "        return self\n",
    "        \n",
    "    def forward(self, x):\n",
    "        # scale the input\n",
    "        x = (x - self.train_mean) / self.train_std\n",
    "\n",
    "        x = F.relu(self.fc1(x))\n",
    "        x = F.relu(self.fc2(x))\n",
    "        x = F.relu(self.fc3(x))\n",
    "        x = self.fc4(x)\n",
    "        x = x[:, -1, :]\n",
    "        \n",
    "        return x"
   ]
  },
  {
   "cell_type": "markdown",
   "metadata": {
    "colab_type": "text",
    "id": "WSJfEvrZdUwD"
   },
   "source": [
    "### Prepare Data Loader"
   ]
  },
  {
   "cell_type": "code",
   "execution_count": 10,
   "metadata": {
    "colab": {},
    "colab_type": "code",
    "id": "UmkrWZgRfxQ1",
    "tags": []
   },
   "outputs": [],
   "source": [
    "# transform to torch tensor\n",
    "tensor_x_train = torch.Tensor(x_train)\n",
    "tensor_y_train = torch.Tensor(y_train)\n",
    "tensor_x_val = torch.Tensor(x_val)\n",
    "tensor_y_val = torch.Tensor(y_val)\n",
    "tensor_x_test = torch.Tensor(x_test)\n",
    "tensor_y_test = torch.Tensor(y_test)\n",
    "\n",
    "# create datasets for train, test and validation\n",
    "train_dataset = torch.utils.data.TensorDataset(tensor_x_train, tensor_y_train)\n",
    "val_dataset = torch.utils.data.TensorDataset(tensor_x_val, tensor_y_val)\n",
    "test_dataset = torch.utils.data.TensorDataset(tensor_x_test, tensor_y_test)\n",
    "\n",
    "# create data loaders\n",
    "train_loader = torch.utils.data.DataLoader(train_dataset, batch_size=BATCH_SIZE)\n",
    "val_loader = torch.utils.data.DataLoader(val_dataset, batch_size=BATCH_SIZE)\n",
    "test_loader = torch.utils.data.DataLoader(test_dataset, batch_size=BATCH_SIZE)"
   ]
  },
  {
   "cell_type": "markdown",
   "metadata": {
    "colab_type": "text",
    "id": "mBCUoRAZd4ZE"
   },
   "source": [
    "### Initial Training"
   ]
  },
  {
   "cell_type": "code",
   "execution_count": 11,
   "metadata": {
    "colab": {},
    "colab_type": "code",
    "id": "KvrLlKWgLp2u",
    "tags": []
   },
   "outputs": [],
   "source": [
    "def train(model, device, train_loader, optimizer, criterion):\n",
    "    model.train()\n",
    "\n",
    "    running_loss = 0\n",
    "\n",
    "    for batch_idx, (data, target) in enumerate(train_loader):\n",
    "        data, target = data.to(device), target.to(device)\n",
    "        optimizer.zero_grad()\n",
    "\n",
    "        output = model(data)\n",
    "\n",
    "        loss = criterion(output, target)\n",
    "        loss.backward()\n",
    "        optimizer.step()\n",
    "\n",
    "        running_loss += loss.item() * data.size(0)\n",
    "\n",
    "    epoch_loss = running_loss / len(train_loader.dataset)\n",
    "    \n",
    "    return epoch_loss"
   ]
  },
  {
   "cell_type": "code",
   "execution_count": 12,
   "metadata": {
    "colab": {},
    "colab_type": "code",
    "id": "O1ANRoq_JRF8",
    "tags": []
   },
   "outputs": [],
   "source": [
    "def test(model, device, test_loader, criterion):\n",
    "    model.eval()\n",
    "\n",
    "    test_loss = 0\n",
    "\n",
    "    with torch.no_grad():\n",
    "        for data, target in test_loader:\n",
    "            data, target = data.to(device), target.to(device)\n",
    "\n",
    "            output = model(data)\n",
    "\n",
    "            test_loss += criterion(output, target).item() * data.size(0)\n",
    "\n",
    "    test_loss /= len(test_loader.dataset)\n",
    "\n",
    "    return test_loss"
   ]
  },
  {
   "cell_type": "code",
   "execution_count": 13,
   "metadata": {
    "colab": {
     "base_uri": "https://localhost:8080/",
     "height": 1000
    },
    "colab_type": "code",
    "executionInfo": {
     "elapsed": 66010,
     "status": "ok",
     "timestamp": 1582126852618,
     "user": {
      "displayName": "Matthias Lau",
      "photoUrl": "https://lh3.googleusercontent.com/a-/AAuE7mC6WRAXJoMqa4-OAv4EwNhkeeciSt5GDAExs2YBOg=s64",
      "userId": "11790472444495897059"
     },
     "user_tz": -60
    },
    "id": "lqghpzITGwnd",
    "outputId": "248bc826-8389-44dc-d2b5-d565f913ceb6",
    "tags": []
   },
   "outputs": [
    {
     "name": "stdout",
     "output_type": "stream",
     "text": [
      "Epoch: 1/280\tloss: 63.3994\tval_loss: 84.2056\n",
      "Epoch: 2/280\tloss: 63.3671\tval_loss: 84.1714\n",
      "Epoch: 3/280\tloss: 63.3321\tval_loss: 84.1322\n",
      "Epoch: 4/280\tloss: 63.2890\tval_loss: 84.0836\n",
      "Epoch: 5/280\tloss: 63.2318\tval_loss: 84.0180\n",
      "Epoch: 6/280\tloss: 63.1494\tval_loss: 83.9181\n",
      "Epoch: 7/280\tloss: 63.0267\tval_loss: 83.7666\n",
      "Epoch: 8/280\tloss: 62.8487\tval_loss: 83.5498\n",
      "Epoch: 9/280\tloss: 62.6013\tval_loss: 83.2468\n",
      "Epoch: 10/280\tloss: 62.2635\tval_loss: 82.8253\n",
      "Epoch: 11/280\tloss: 61.8057\tval_loss: 82.2396\n",
      "Epoch: 12/280\tloss: 61.1962\tval_loss: 81.4303\n",
      "Epoch: 13/280\tloss: 60.4015\tval_loss: 80.3405\n",
      "Epoch: 14/280\tloss: 59.4069\tval_loss: 78.9071\n",
      "Epoch: 15/280\tloss: 58.2077\tval_loss: 77.0770\n",
      "Epoch: 16/280\tloss: 56.8311\tval_loss: 74.7960\n",
      "Epoch: 17/280\tloss: 55.2387\tval_loss: 71.9916\n",
      "Epoch: 18/280\tloss: 53.3949\tval_loss: 68.5977\n",
      "Epoch: 19/280\tloss: 51.2564\tval_loss: 64.5477\n",
      "Epoch: 20/280\tloss: 48.7040\tval_loss: 59.7023\n",
      "Epoch: 21/280\tloss: 45.6064\tval_loss: 53.8723\n",
      "Epoch: 22/280\tloss: 41.8517\tval_loss: 46.8554\n",
      "Epoch: 23/280\tloss: 37.3392\tval_loss: 38.6590\n",
      "Epoch: 24/280\tloss: 32.5446\tval_loss: 30.8025\n",
      "Epoch: 25/280\tloss: 29.4867\tval_loss: 26.7561\n",
      "Epoch: 26/280\tloss: 28.3046\tval_loss: 25.9328\n",
      "Epoch: 27/280\tloss: 27.9235\tval_loss: 25.7015\n",
      "Epoch: 28/280\tloss: 27.4989\tval_loss: 25.2957\n",
      "Epoch: 29/280\tloss: 26.9787\tval_loss: 24.8567\n",
      "Epoch: 30/280\tloss: 26.4770\tval_loss: 24.4923\n",
      "Epoch: 31/280\tloss: 26.0315\tval_loss: 24.1907\n",
      "Epoch: 32/280\tloss: 25.6303\tval_loss: 23.8986\n",
      "Epoch: 33/280\tloss: 25.2550\tval_loss: 23.5850\n",
      "Epoch: 34/280\tloss: 24.8968\tval_loss: 23.2440\n",
      "Epoch: 35/280\tloss: 24.5458\tval_loss: 22.8875\n",
      "Epoch: 36/280\tloss: 24.1976\tval_loss: 22.5249\n",
      "Epoch: 37/280\tloss: 23.8559\tval_loss: 22.1831\n",
      "Epoch: 38/280\tloss: 23.5221\tval_loss: 21.8575\n",
      "Epoch: 39/280\tloss: 23.1959\tval_loss: 21.5522\n",
      "Epoch: 40/280\tloss: 22.8831\tval_loss: 21.2783\n",
      "Epoch: 41/280\tloss: 22.5841\tval_loss: 21.0327\n",
      "Epoch: 42/280\tloss: 22.2933\tval_loss: 20.8029\n",
      "Epoch: 43/280\tloss: 22.0075\tval_loss: 20.5883\n",
      "Epoch: 44/280\tloss: 21.7262\tval_loss: 20.3862\n",
      "Epoch: 45/280\tloss: 21.4455\tval_loss: 20.1985\n",
      "Epoch: 46/280\tloss: 21.1668\tval_loss: 20.0148\n",
      "Epoch: 47/280\tloss: 20.8890\tval_loss: 19.8309\n",
      "Epoch: 48/280\tloss: 20.6113\tval_loss: 19.6463\n",
      "Epoch: 49/280\tloss: 20.3365\tval_loss: 19.4563\n",
      "Epoch: 50/280\tloss: 20.0642\tval_loss: 19.2567\n",
      "Epoch: 51/280\tloss: 19.7959\tval_loss: 19.0587\n",
      "Epoch: 52/280\tloss: 19.5387\tval_loss: 18.8806\n",
      "Epoch: 53/280\tloss: 19.2959\tval_loss: 18.7064\n",
      "Epoch: 54/280\tloss: 19.0665\tval_loss: 18.5416\n",
      "Epoch: 55/280\tloss: 18.8450\tval_loss: 18.3894\n",
      "Epoch: 56/280\tloss: 18.6338\tval_loss: 18.2569\n",
      "Epoch: 57/280\tloss: 18.4362\tval_loss: 18.1196\n",
      "Epoch: 58/280\tloss: 18.2507\tval_loss: 17.9895\n",
      "Epoch: 59/280\tloss: 18.0728\tval_loss: 17.8724\n",
      "Epoch: 60/280\tloss: 17.9020\tval_loss: 17.7630\n",
      "Epoch: 61/280\tloss: 17.7375\tval_loss: 17.6637\n",
      "Epoch: 62/280\tloss: 17.5789\tval_loss: 17.5739\n",
      "Epoch: 63/280\tloss: 17.4272\tval_loss: 17.4972\n",
      "Epoch: 64/280\tloss: 17.2809\tval_loss: 17.4264\n",
      "Epoch: 65/280\tloss: 17.1417\tval_loss: 17.3376\n",
      "Epoch: 66/280\tloss: 17.0115\tval_loss: 17.2322\n",
      "Epoch: 67/280\tloss: 16.8861\tval_loss: 17.1253\n",
      "Epoch: 68/280\tloss: 16.7685\tval_loss: 17.0259\n",
      "Epoch: 69/280\tloss: 16.6543\tval_loss: 16.9397\n",
      "Epoch: 70/280\tloss: 16.5458\tval_loss: 16.8590\n",
      "Epoch: 71/280\tloss: 16.4465\tval_loss: 16.7841\n",
      "Epoch: 72/280\tloss: 16.3509\tval_loss: 16.7210\n",
      "Epoch: 73/280\tloss: 16.2604\tval_loss: 16.6543\n",
      "Epoch: 74/280\tloss: 16.1748\tval_loss: 16.6026\n",
      "Epoch: 75/280\tloss: 16.0925\tval_loss: 16.5728\n",
      "Epoch: 76/280\tloss: 16.0170\tval_loss: 16.5500\n",
      "Epoch: 77/280\tloss: 15.9477\tval_loss: 16.5144\n",
      "Epoch: 78/280\tloss: 15.8802\tval_loss: 16.4653\n",
      "Epoch: 79/280\tloss: 15.8124\tval_loss: 16.4074\n",
      "Epoch: 80/280\tloss: 15.7493\tval_loss: 16.3517\n",
      "Epoch: 81/280\tloss: 15.6878\tval_loss: 16.3071\n",
      "Epoch: 82/280\tloss: 15.6297\tval_loss: 16.2707\n",
      "Epoch: 83/280\tloss: 15.5733\tval_loss: 16.2309\n",
      "Epoch: 84/280\tloss: 15.5207\tval_loss: 16.1981\n",
      "Epoch: 85/280\tloss: 15.4718\tval_loss: 16.1701\n",
      "Epoch: 86/280\tloss: 15.4276\tval_loss: 16.1536\n",
      "Epoch: 87/280\tloss: 15.3869\tval_loss: 16.1467\n",
      "Epoch: 88/280\tloss: 15.3484\tval_loss: 16.1303\n",
      "Epoch: 89/280\tloss: 15.3152\tval_loss: 16.1168\n",
      "Epoch: 90/280\tloss: 15.2855\tval_loss: 16.1089\n",
      "Epoch: 91/280\tloss: 15.2565\tval_loss: 16.1063\n",
      "Epoch: 92/280\tloss: 15.2279\tval_loss: 16.1050\n",
      "Epoch: 93/280\tloss: 15.2009\tval_loss: 16.0877\n",
      "Epoch: 94/280\tloss: 15.1759\tval_loss: 16.0736\n",
      "Epoch: 95/280\tloss: 15.1524\tval_loss: 16.0828\n",
      "Epoch: 96/280\tloss: 15.1266\tval_loss: 16.0746\n",
      "Epoch: 97/280\tloss: 15.1029\tval_loss: 16.0733\n",
      "Epoch: 98/280\tloss: 15.0803\tval_loss: 16.0867\n",
      "Epoch: 99/280\tloss: 15.0578\tval_loss: 16.0910\n",
      "Epoch: 100/280\tloss: 15.0340\tval_loss: 16.0789\n",
      "Epoch: 101/280\tloss: 15.0128\tval_loss: 16.0798\n",
      "Epoch: 102/280\tloss: 14.9919\tval_loss: 16.0842\n",
      "Epoch: 103/280\tloss: 14.9726\tval_loss: 16.0808\n",
      "Epoch: 104/280\tloss: 14.9553\tval_loss: 16.0793\n",
      "Epoch: 105/280\tloss: 14.9388\tval_loss: 16.0747\n",
      "Epoch: 106/280\tloss: 14.9211\tval_loss: 16.0740\n",
      "Epoch: 107/280\tloss: 14.9078\tval_loss: 16.0851\n",
      "Epoch: 108/280\tloss: 14.8898\tval_loss: 16.0627\n",
      "Epoch: 109/280\tloss: 14.8795\tval_loss: 16.0831\n",
      "Epoch: 110/280\tloss: 14.8599\tval_loss: 16.0636\n",
      "Epoch: 111/280\tloss: 14.8462\tval_loss: 16.0699\n",
      "Epoch: 112/280\tloss: 14.8324\tval_loss: 16.0682\n",
      "Epoch: 113/280\tloss: 14.8177\tval_loss: 16.0612\n",
      "Epoch: 114/280\tloss: 14.8064\tval_loss: 16.0715\n",
      "Epoch: 115/280\tloss: 14.7912\tval_loss: 16.0542\n",
      "Epoch: 116/280\tloss: 14.7820\tval_loss: 16.0663\n",
      "Epoch: 117/280\tloss: 14.7676\tval_loss: 16.0557\n",
      "Epoch: 118/280\tloss: 14.7561\tval_loss: 16.0522\n",
      "Epoch: 119/280\tloss: 14.7483\tval_loss: 16.0575\n",
      "Epoch: 120/280\tloss: 14.7347\tval_loss: 16.0405\n",
      "Epoch: 121/280\tloss: 14.7291\tval_loss: 16.0593\n",
      "Epoch: 122/280\tloss: 14.7135\tval_loss: 16.0443\n",
      "Epoch: 123/280\tloss: 14.7054\tval_loss: 16.0494\n",
      "Epoch: 124/280\tloss: 14.6956\tval_loss: 16.0468\n",
      "Epoch: 125/280\tloss: 14.6845\tval_loss: 16.0349\n",
      "Epoch: 126/280\tloss: 14.6819\tval_loss: 16.0627\n",
      "Epoch: 127/280\tloss: 14.6638\tval_loss: 16.0393\n",
      "Epoch: 128/280\tloss: 14.6584\tval_loss: 16.0447\n",
      "Epoch: 129/280\tloss: 14.6484\tval_loss: 16.0442\n",
      "Epoch: 130/280\tloss: 14.6405\tval_loss: 16.0474\n",
      "Epoch: 131/280\tloss: 14.6330\tval_loss: 16.0496\n",
      "Epoch: 132/280\tloss: 14.6247\tval_loss: 16.0529\n",
      "Epoch: 133/280\tloss: 14.6216\tval_loss: 16.0732\n",
      "Epoch: 134/280\tloss: 14.6074\tval_loss: 16.0576\n",
      "Epoch: 135/280\tloss: 14.6105\tval_loss: 16.0774\n",
      "Epoch: 136/280\tloss: 14.5949\tval_loss: 16.0500\n",
      "Epoch: 137/280\tloss: 14.6056\tval_loss: 16.0989\n",
      "Epoch: 138/280\tloss: 14.5832\tval_loss: 16.0601\n",
      "Epoch: 139/280\tloss: 14.5876\tval_loss: 16.0892\n",
      "Epoch: 140/280\tloss: 14.5698\tval_loss: 16.0633\n",
      "Epoch: 141/280\tloss: 14.5766\tval_loss: 16.0895\n",
      "Epoch: 142/280\tloss: 14.5614\tval_loss: 16.0608\n",
      "Epoch: 143/280\tloss: 14.5690\tval_loss: 16.0956\n",
      "Epoch: 144/280\tloss: 14.5499\tval_loss: 16.0639\n",
      "Epoch: 145/280\tloss: 14.5578\tval_loss: 16.0997\n",
      "Epoch: 146/280\tloss: 14.5395\tval_loss: 16.0721\n",
      "Epoch: 147/280\tloss: 14.5440\tval_loss: 16.1032\n",
      "Epoch: 148/280\tloss: 14.5298\tval_loss: 16.0886\n",
      "Epoch: 149/280\tloss: 14.5286\tval_loss: 16.1015\n",
      "Epoch: 150/280\tloss: 14.5208\tval_loss: 16.0972\n",
      "Epoch: 151/280\tloss: 14.5166\tval_loss: 16.0931\n",
      "Epoch: 152/280\tloss: 14.5155\tval_loss: 16.1059\n",
      "Epoch: 153/280\tloss: 14.5066\tval_loss: 16.0974\n",
      "Epoch: 154/280\tloss: 14.5017\tval_loss: 16.0976\n",
      "Epoch: 155/280\tloss: 14.5033\tval_loss: 16.1044\n",
      "Epoch: 156/280\tloss: 14.4942\tval_loss: 16.0875\n",
      "Epoch: 157/280\tloss: 14.4966\tval_loss: 16.1075\n",
      "Epoch: 158/280\tloss: 14.4812\tval_loss: 16.0932\n",
      "Epoch: 159/280\tloss: 14.4850\tval_loss: 16.1037\n",
      "Epoch: 160/280\tloss: 14.4820\tval_loss: 16.1078\n",
      "Epoch: 161/280\tloss: 14.4763\tval_loss: 16.1091\n",
      "Epoch: 162/280\tloss: 14.4691\tval_loss: 16.1093\n",
      "Epoch: 163/280\tloss: 14.4651\tval_loss: 16.1047\n",
      "Epoch: 164/280\tloss: 14.4651\tval_loss: 16.1084\n",
      "Epoch: 165/280\tloss: 14.4586\tval_loss: 16.1051\n",
      "Epoch: 166/280\tloss: 14.4582\tval_loss: 16.1076\n",
      "Epoch: 167/280\tloss: 14.4495\tval_loss: 16.0896\n",
      "Epoch: 168/280\tloss: 14.4575\tval_loss: 16.1140\n",
      "Epoch: 169/280\tloss: 14.4425\tval_loss: 16.0945\n",
      "Epoch: 170/280\tloss: 14.4437\tval_loss: 16.1050\n",
      "Epoch: 171/280\tloss: 14.4429\tval_loss: 16.1058\n",
      "Epoch: 172/280\tloss: 14.4326\tval_loss: 16.0864\n",
      "Epoch: 173/280\tloss: 14.4354\tval_loss: 16.0997\n",
      "Epoch: 174/280\tloss: 14.4310\tval_loss: 16.0964\n",
      "Epoch: 175/280\tloss: 14.4246\tval_loss: 16.0918\n",
      "Epoch: 176/280\tloss: 14.4250\tval_loss: 16.0974\n",
      "Epoch: 177/280\tloss: 14.4188\tval_loss: 16.0876\n",
      "Epoch: 178/280\tloss: 14.4239\tval_loss: 16.1033\n",
      "Epoch: 179/280\tloss: 14.4089\tval_loss: 16.0767\n",
      "Epoch: 180/280\tloss: 14.4177\tval_loss: 16.0993\n",
      "Epoch: 181/280\tloss: 14.4065\tval_loss: 16.0870\n",
      "Epoch: 182/280\tloss: 14.4051\tval_loss: 16.0884\n",
      "Epoch: 183/280\tloss: 14.4053\tval_loss: 16.0953\n",
      "Epoch: 184/280\tloss: 14.3954\tval_loss: 16.0829\n",
      "Epoch: 185/280\tloss: 14.3982\tval_loss: 16.0951\n",
      "Epoch: 186/280\tloss: 14.3920\tval_loss: 16.0884\n",
      "Epoch: 187/280\tloss: 14.3915\tval_loss: 16.0918\n",
      "Epoch: 188/280\tloss: 14.3850\tval_loss: 16.0875\n",
      "Epoch: 189/280\tloss: 14.3935\tval_loss: 16.1073\n",
      "Epoch: 190/280\tloss: 14.3761\tval_loss: 16.0833\n",
      "Epoch: 191/280\tloss: 14.3845\tval_loss: 16.0994\n",
      "Epoch: 192/280\tloss: 14.3726\tval_loss: 16.0870\n",
      "Epoch: 193/280\tloss: 14.3819\tval_loss: 16.1078\n",
      "Epoch: 194/280\tloss: 14.3660\tval_loss: 16.0882\n",
      "Epoch: 195/280\tloss: 14.3721\tval_loss: 16.0976\n",
      "Epoch: 196/280\tloss: 14.3646\tval_loss: 16.0946\n",
      "Epoch: 197/280\tloss: 14.3633\tval_loss: 16.0963\n",
      "Epoch: 198/280\tloss: 14.3613\tval_loss: 16.0968\n",
      "Epoch: 199/280\tloss: 14.3570\tval_loss: 16.0964\n",
      "Epoch: 200/280\tloss: 14.3588\tval_loss: 16.1020\n",
      "Epoch: 201/280\tloss: 14.3488\tval_loss: 16.0912\n",
      "Epoch: 202/280\tloss: 14.3613\tval_loss: 16.1162\n",
      "Epoch: 203/280\tloss: 14.3421\tval_loss: 16.0854\n",
      "Epoch: 204/280\tloss: 14.3525\tval_loss: 16.1029\n",
      "Epoch: 205/280\tloss: 14.3429\tval_loss: 16.0972\n",
      "Epoch: 206/280\tloss: 14.3394\tval_loss: 16.0955\n",
      "Epoch: 207/280\tloss: 14.3411\tval_loss: 16.1008\n",
      "Epoch: 208/280\tloss: 14.3334\tval_loss: 16.0916\n",
      "Epoch: 209/280\tloss: 14.3359\tval_loss: 16.1027\n",
      "Epoch: 210/280\tloss: 14.3300\tval_loss: 16.0958\n",
      "Epoch: 211/280\tloss: 14.3317\tval_loss: 16.1034\n",
      "Epoch: 212/280\tloss: 14.3278\tval_loss: 16.1016\n",
      "Epoch: 213/280\tloss: 14.3204\tval_loss: 16.0940\n",
      "Epoch: 214/280\tloss: 14.3307\tval_loss: 16.1150\n",
      "Epoch: 215/280\tloss: 14.3175\tval_loss: 16.0955\n",
      "Epoch: 216/280\tloss: 14.3192\tval_loss: 16.0968\n",
      "Epoch: 217/280\tloss: 14.3121\tval_loss: 16.0888\n",
      "Epoch: 218/280\tloss: 14.3176\tval_loss: 16.1010\n",
      "Epoch: 219/280\tloss: 14.3105\tval_loss: 16.0922\n",
      "Epoch: 220/280\tloss: 14.3110\tval_loss: 16.1007\n",
      "Epoch: 221/280\tloss: 14.3025\tval_loss: 16.0865\n",
      "Epoch: 222/280\tloss: 14.3120\tval_loss: 16.1061\n",
      "Epoch: 223/280\tloss: 14.2981\tval_loss: 16.0863\n",
      "Epoch: 224/280\tloss: 14.3015\tval_loss: 16.0980\n",
      "Epoch: 225/280\tloss: 14.3006\tval_loss: 16.1022\n",
      "Epoch: 226/280\tloss: 14.2921\tval_loss: 16.0892\n",
      "Epoch: 227/280\tloss: 14.2959\tval_loss: 16.1034\n",
      "Epoch: 228/280\tloss: 14.2921\tval_loss: 16.1034\n",
      "Epoch: 229/280\tloss: 14.2859\tval_loss: 16.0950\n",
      "Epoch: 230/280\tloss: 14.2938\tval_loss: 16.1127\n",
      "Epoch: 231/280\tloss: 14.2806\tval_loss: 16.1004\n",
      "Epoch: 232/280\tloss: 14.2859\tval_loss: 16.1138\n",
      "Epoch: 233/280\tloss: 14.2760\tval_loss: 16.1032\n",
      "Epoch: 234/280\tloss: 14.2819\tval_loss: 16.1145\n",
      "Epoch: 235/280\tloss: 14.2723\tval_loss: 16.1073\n",
      "Epoch: 236/280\tloss: 14.2765\tval_loss: 16.1149\n",
      "Epoch: 237/280\tloss: 14.2667\tval_loss: 16.1062\n",
      "Epoch: 238/280\tloss: 14.2755\tval_loss: 16.1209\n",
      "Epoch: 239/280\tloss: 14.2615\tval_loss: 16.1033\n",
      "Epoch: 240/280\tloss: 14.2717\tval_loss: 16.1276\n",
      "Epoch: 241/280\tloss: 14.2563\tval_loss: 16.1078\n",
      "Epoch: 242/280\tloss: 14.2652\tval_loss: 16.1234\n",
      "Epoch: 243/280\tloss: 14.2538\tval_loss: 16.1182\n",
      "Epoch: 244/280\tloss: 14.2576\tval_loss: 16.1269\n",
      "Epoch: 245/280\tloss: 14.2531\tval_loss: 16.1264\n",
      "Epoch: 246/280\tloss: 14.2460\tval_loss: 16.1205\n",
      "Epoch: 247/280\tloss: 14.2530\tval_loss: 16.1288\n",
      "Epoch: 248/280\tloss: 14.2424\tval_loss: 16.1221\n",
      "Epoch: 249/280\tloss: 14.2506\tval_loss: 16.1385\n",
      "Epoch: 250/280\tloss: 14.2358\tval_loss: 16.1216\n",
      "Epoch: 251/280\tloss: 14.2504\tval_loss: 16.1483\n",
      "Epoch: 252/280\tloss: 14.2295\tval_loss: 16.1157\n",
      "Epoch: 253/280\tloss: 14.2495\tval_loss: 16.1522\n",
      "Epoch: 254/280\tloss: 14.2248\tval_loss: 16.1245\n",
      "Epoch: 255/280\tloss: 14.2396\tval_loss: 16.1523\n",
      "Epoch: 256/280\tloss: 14.2221\tval_loss: 16.1338\n",
      "Epoch: 257/280\tloss: 14.2263\tval_loss: 16.1450\n",
      "Epoch: 258/280\tloss: 14.2218\tval_loss: 16.1457\n",
      "Epoch: 259/280\tloss: 14.2168\tval_loss: 16.1433\n",
      "Epoch: 260/280\tloss: 14.2155\tval_loss: 16.1482\n",
      "Epoch: 261/280\tloss: 14.2155\tval_loss: 16.1518\n",
      "Epoch: 262/280\tloss: 14.2114\tval_loss: 16.1525\n",
      "Epoch: 263/280\tloss: 14.2048\tval_loss: 16.1497\n",
      "Epoch: 264/280\tloss: 14.2100\tval_loss: 16.1601\n",
      "Epoch: 265/280\tloss: 14.1997\tval_loss: 16.1467\n",
      "Epoch: 266/280\tloss: 14.2022\tval_loss: 16.1614\n",
      "Epoch: 267/280\tloss: 14.1944\tval_loss: 16.1532\n",
      "Epoch: 268/280\tloss: 14.1938\tval_loss: 16.1565\n",
      "Epoch: 269/280\tloss: 14.1923\tval_loss: 16.1623\n",
      "Epoch: 270/280\tloss: 14.1845\tval_loss: 16.1527\n",
      "Epoch: 271/280\tloss: 14.1912\tval_loss: 16.1683\n",
      "Epoch: 272/280\tloss: 14.1767\tval_loss: 16.1518\n",
      "Epoch: 273/280\tloss: 14.1859\tval_loss: 16.1722\n",
      "Epoch: 274/280\tloss: 14.1672\tval_loss: 16.1430\n",
      "Epoch: 275/280\tloss: 14.1897\tval_loss: 16.1803\n",
      "Epoch: 276/280\tloss: 14.1592\tval_loss: 16.1411\n",
      "Epoch: 277/280\tloss: 14.1819\tval_loss: 16.1807\n",
      "Epoch: 278/280\tloss: 14.1531\tval_loss: 16.1455\n",
      "Epoch: 279/280\tloss: 14.1718\tval_loss: 16.1781\n",
      "Epoch: 280/280\tloss: 14.1504\tval_loss: 16.1568\n"
     ]
    }
   ],
   "source": [
    "torch.manual_seed(1)\n",
    "np.random.seed(51)\n",
    "\n",
    "epochs = 280\n",
    "\n",
    "use_cuda = torch.cuda.is_available()\n",
    "device = torch.device(\"cuda\" if use_cuda else \"cpu\")\n",
    "\n",
    "mean = tensor_x_train.mean(0)\n",
    "std = tensor_x_train.std(0)\n",
    "model = TurbofanModel(mean, std).to(device)\n",
    "\n",
    "criterion = nn.L1Loss() # mae\n",
    "optimizer = optim.Adam(model.parameters())\n",
    "\n",
    "history = {}\n",
    "history['epoch'] = []\n",
    "history['loss'] = []\n",
    "history['val_loss'] = []\n",
    "\n",
    "for epoch in range(1, epochs + 1):\n",
    "    train_loss = train(model, device, train_loader, optimizer, criterion)\n",
    "    val_loss = test(model, device, val_loader, criterion)\n",
    "\n",
    "    print('Epoch: {}/{}\\tloss: {:.4f}\\tval_loss: {:.4f}'.format(epoch, epochs, train_loss, val_loss))\n",
    "\n",
    "    history['epoch'].append(epoch)\n",
    "    history['loss'].append(train_loss)\n",
    "    history['val_loss'].append(val_loss)"
   ]
  },
  {
   "cell_type": "code",
   "execution_count": 14,
   "metadata": {
    "colab": {
     "base_uri": "https://localhost:8080/",
     "height": 302
    },
    "colab_type": "code",
    "executionInfo": {
     "elapsed": 66488,
     "status": "ok",
     "timestamp": 1582126853128,
     "user": {
      "displayName": "Matthias Lau",
      "photoUrl": "https://lh3.googleusercontent.com/a-/AAuE7mC6WRAXJoMqa4-OAv4EwNhkeeciSt5GDAExs2YBOg=s64",
      "userId": "11790472444495897059"
     },
     "user_tz": -60
    },
    "id": "Ygq-M1r_RLOT",
    "outputId": "615ad0e5-1445-44ec-beba-34bfc5b08eea",
    "tags": []
   },
   "outputs": [
    {
     "data": {
      "text/plain": [
       "<matplotlib.legend.Legend at 0x7fff6f4ec910>"
      ]
     },
     "execution_count": 14,
     "metadata": {},
     "output_type": "execute_result"
    },
    {
     "data": {
      "image/png": "[encoded data removed]",
      "text/plain": [
       "<Figure size 640x480 with 1 Axes>"
      ]
     },
     "metadata": {},
     "output_type": "display_data"
    }
   ],
   "source": [
    "plt.figure()\n",
    "plt.xlabel('Epoch')\n",
    "plt.plot(history['epoch'], np.array(history['loss']), label='Train Loss')\n",
    "plt.plot(history['epoch'], np.array(history['val_loss']), label = 'Validation loss')\n",
    "plt.legend()"
   ]
  },
  {
   "cell_type": "markdown",
   "metadata": {
    "colab_type": "text",
    "id": "hKzWYHzmUX-C"
   },
   "source": [
    "## Model Evaluation"
   ]
  },
  {
   "cell_type": "code",
   "execution_count": 15,
   "metadata": {
    "colab": {
     "base_uri": "https://localhost:8080/",
     "height": 336
    },
    "colab_type": "code",
    "executionInfo": {
     "elapsed": 67746,
     "status": "ok",
     "timestamp": 1582126854416,
     "user": {
      "displayName": "Matthias Lau",
      "photoUrl": "https://lh3.googleusercontent.com/a-/AAuE7mC6WRAXJoMqa4-OAv4EwNhkeeciSt5GDAExs2YBOg=s64",
      "userId": "11790472444495897059"
     },
     "user_tz": -60
    },
    "id": "7OcTYtNhEizF",
    "outputId": "17a34af8-bab4-4d22-ced6-e18dab2d7db6",
    "tags": []
   },
   "outputs": [
    {
     "name": "stdout",
     "output_type": "stream",
     "text": [
      "Testing set RMSE:    19.75\n",
      "Validation set RMSE:   20.09\n",
      "Training set RMSE:   18.51\n"
     ]
    },
    {
     "data": {
      "image/png": "[encoded data removed]",
      "text/plain": [
       "<Figure size 500x500 with 1 Axes>"
      ]
     },
     "metadata": {},
     "output_type": "display_data"
    },
    {
     "data": {
      "image/png": "[encoded data removed]",
      "text/plain": [
       "<Figure size 500x500 with 1 Axes>"
      ]
     },
     "metadata": {},
     "output_type": "display_data"
    },
    {
     "data": {
      "image/png": "[encoded data removed]",
      "text/plain": [
       "<Figure size 500x500 with 1 Axes>"
      ]
     },
     "metadata": {},
     "output_type": "display_data"
    }
   ],
   "source": [
    "def plot_res(model, test_data, test_labels, val_data, val_labels, train_data, train_labels):\n",
    "    output_test = model(test_data).to('cpu')\n",
    "    rmse_test = root_mean_squared_error(test_labels, output_test)\n",
    "    output_val = model(val_data).to('cpu')\n",
    "    rmse_val = root_mean_squared_error(val_labels, output_val)\n",
    "    output_train = model(train_data).to('cpu')\n",
    "    rmse_train = root_mean_squared_error(train_labels, output_train)\n",
    "    print(\"Testing set RMSE:  {:7.2f}\".format(rmse_test))\n",
    "    print(\"Validation set RMSE: {:7.2f}\".format(rmse_val))\n",
    "    print(\"Training set RMSE: {:7.2f}\".format(rmse_train))\n",
    "\n",
    "    test_predictions = output_test.flatten()\n",
    "    val_predictions = output_val.flatten()\n",
    "    train_predictions = output_train.flatten()\n",
    "\n",
    "    sns.displot(train_predictions - train_labels.flatten(), label=\"Train\", kde=True)\n",
    "    sns.displot(val_predictions - val_labels.flatten(), label=\"Val\", kde=True)\n",
    "    sns.displot(test_predictions - test_labels.flatten(), label=\"Test\", kde=True)\n",
    "\n",
    "    plt.xlabel(\"Prediction Error\")\n",
    "    plt.legend()\n",
    "    plt.show()\n",
    "\n",
    "tensor_x_train, tensor_x_val, tensor_x_test = tensor_x_train.to(device), tensor_x_val.to(device), tensor_x_test.to(device)\n",
    "\n",
    "with torch.no_grad():\n",
    "    plot_res(model, tensor_x_test, tensor_y_test, tensor_x_val, tensor_y_val, tensor_x_train, tensor_y_train)"
   ]
  },
  {
   "cell_type": "markdown",
   "metadata": {
    "colab_type": "text",
    "id": "pLq7_EO36swu"
   },
   "source": [
    "## Save Model"
   ]
  },
  {
   "cell_type": "code",
   "execution_count": null,
   "metadata": {
    "colab": {
     "base_uri": "https://localhost:8080/",
     "height": 71
    },
    "colab_type": "code",
    "executionInfo": {
     "elapsed": 67727,
     "status": "ok",
     "timestamp": 1582126854419,
     "user": {
      "displayName": "Matthias Lau",
      "photoUrl": "https://lh3.googleusercontent.com/a-/AAuE7mC6WRAXJoMqa4-OAv4EwNhkeeciSt5GDAExs2YBOg=s64",
      "userId": "11790472444495897059"
     },
     "user_tz": -60
    },
    "id": "o9BMgIO83MKE",
    "outputId": "7a69653e-cca2-41c0-f829-c186eb19f7d8",
    "tags": []
   },
   "outputs": [],
   "source": [
    "# save the model to use it for the federated trainer\n",
    "model_data+path=\"\"\n",
    "print(model_data_path, flush=True)\n",
    "torch.save(model.to('cpu'), model_data_path)"
   ]
  },
  {
   "cell_type": "code",
   "execution_count": null,
   "metadata": {
    "colab": {},
    "colab_type": "code",
    "id": "CdDev2Dy7sMc"
   },
   "outputs": [],
   "source": []
  },
  {
   "cell_type": "code",
   "execution_count": null,
   "metadata": {},
   "outputs": [],
   "source": []
  }
 ],
 "metadata": {
  "accelerator": "GPU",
  "colab": {
   "collapsed_sections": [],
   "name": "Federated_Learning_PySyft_InitialTraining.ipynb",
   "provenance": []
  },
  "kernelspec": {
   "display_name": "Python 3 (ipykernel)",
   "language": "python",
   "name": "python3"
  },
  "language_info": {
   "codemirror_mode": {
    "name": "ipython",
    "version": 3
   },
   "file_extension": ".py",
   "mimetype": "text/x-python",
   "name": "python",
   "nbconvert_exporter": "python",
   "pygments_lexer": "ipython3",
   "version": "3.7.6"
  }
 },
 "nbformat": 4,
 "nbformat_minor": 4
}
