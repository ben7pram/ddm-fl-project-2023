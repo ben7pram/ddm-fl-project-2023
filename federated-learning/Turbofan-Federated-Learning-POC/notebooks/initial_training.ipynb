{
 "cells": [
  {
   "cell_type": "markdown",
   "metadata": {
    "colab_type": "text",
    "id": "DGFrBsJOs8N6"
   },
   "source": [
    "# Turbofan POC - Initial Training and Model Serving\n",
    "\n",
    "This notebook is creating an initial model for predictions of the RUL for our turbofan engines."
   ]
  },
  {
   "cell_type": "markdown",
   "metadata": {
    "colab_type": "text",
    "id": "teKaiaP8A-pN"
   },
   "source": [
    "## Imports and Data Preprocessing"
   ]
  },
  {
   "cell_type": "code",
   "execution_count": null,
   "metadata": {
    "colab": {
     "base_uri": "https://localhost:8080/",
     "height": 156
    },
    "colab_type": "code",
    "executionInfo": {
     "elapsed": 26981,
     "status": "ok",
     "timestamp": 1582126813186,
     "user": {
      "displayName": "Matthias Lau",
      "photoUrl": "https://lh3.googleusercontent.com/a-/AAuE7mC6WRAXJoMqa4-OAv4EwNhkeeciSt5GDAExs2YBOg=s64",
      "userId": "11790472444495897059"
     },
     "user_tz": -60
    },
    "id": "1Krj0J83x5O8",
    "outputId": "1b4a0cea-c47e-41e9-82a2-9b816e3765e9",
    "tags": []
   },
   "outputs": [],
   "source": [
    "# check if we are inside google colab\n",
    "try:\n",
    "    from google.colab import drive\n",
    "    # mount gdrive for importing the data\n",
    "    drive.mount('/content/gdrive', force_remount=True)\n",
    "    # change this path to your notebooks directory inside google drive\n",
    "    %cd /content/gdrive/My\\ Drive/dev/turbofan_poc/notebooks\n",
    "\n",
    "    # set tensorflow version\n",
    "    %tensorflow_version 2.x\n",
    "except:\n",
    "    pass"
   ]
  },
  {
   "cell_type": "code",
   "execution_count": 1,
   "metadata": {
    "colab": {},
    "colab_type": "code",
    "id": "N61mNrV80NVr",
    "tags": []
   },
   "outputs": [],
   "source": [
    "import os\n",
    "import numpy as np\n",
    "import pandas as pd\n",
    "\n",
    "import torch\n",
    "import torch.nn as nn\n",
    "import torch.nn.functional as F\n",
    "import torch.optim as optim\n",
    "\n",
    "import seaborn as sns\n",
    "import matplotlib.pyplot as plt\n",
    "from amdex import *\n",
    "\n",
    "sns.set()"
   ]
  },
  {
   "cell_type": "code",
   "execution_count": 3,
   "metadata": {
    "colab": {},
    "colab_type": "code",
    "id": "RICPXgLi0g0R",
    "tags": []
   },
   "outputs": [],
   "source": [
    "# load the data \n",
    "data_folder_path = '../localstorage-trainer/data'\n",
    "model_data_path = '../localstorage-trainer/models/train_data_initial.txt'\n",
    "\n",
    "train_data_path = os.path.join(data_folder_path, 'train_data_initial.txt')\n",
    "train_data = pd.read_csv(train_data_path)\n",
    "train_data.set_index('time_in_cycles')\n",
    "\n",
    "val_data_path = os.path.join(data_folder_path, 'test_data_val.txt')\n",
    "val_data = pd.read_csv(val_data_path)\n",
    "val_data.set_index('time_in_cycles')\n",
    "\n",
    "test_data_path = os.path.join(data_folder_path, 'test_data_test.txt')\n",
    "test_data = pd.read_csv(test_data_path)\n",
    "test_data.set_index('time_in_cycles')\n",
    "\n",
    "# retrieve the max cycles per engine: RUL\n",
    "train_rul = pd.DataFrame(train_data.groupby('engine_no')['time_in_cycles'].max()).reset_index()\n",
    "# merge the RULs into the training data\n",
    "train_rul.columns = ['engine_no', 'max']\n",
    "train_data = train_data.merge(train_rul, on=['engine_no'], how='left')\n",
    "# add the current RUL for every cycle\n",
    "train_data['RUL'] = train_data['max'] - train_data['time_in_cycles']\n",
    "train_data.drop('max', axis=1, inplace=True)\n",
    "\n",
    "# test and validation data already contains the RUL values\n",
    "\n",
    "# drop the columns not needed\n",
    "cols_nan = train_data.columns[train_data.isna().any()].tolist()\n",
    "cols_const = [ col for col in train_data.columns if len(train_data[col].unique()) <= 2 ]\n",
    "\n",
    "# The operational settings 1 and 2 don´t have a trend and they look like random noise.\n",
    "# Sensors 11, 12, 13 could be removed due to high correlations but it should be tested.\n",
    "# The trend of sensors 9 and 14 depend on the specific engine. Some engines at the end\n",
    "# of life tend to increase while others tend to decrease. What is common about these\n",
    "# two sensors is that the magnitude at the end life gets amplified. We should try\n",
    "# removing both sensors.\n",
    "cols_irrelevant = ['operational_setting_1', 'operational_setting_2', 'sensor_measurement_11', 'sensor_measurement_12', 'sensor_measurement_13']\n",
    "\n",
    "# Drop the columns without or with constant data\n",
    "train_data = train_data.drop(columns=cols_const + cols_nan + cols_irrelevant)\n",
    "val_data = val_data.drop(columns=cols_const + cols_nan + cols_irrelevant)\n",
    "test_data = test_data.drop(columns=cols_const + cols_nan + cols_irrelevant)"
   ]
  },
  {
   "cell_type": "markdown",
   "metadata": {
    "colab_type": "text",
    "id": "S58onfDNdAmc",
    "tags": []
   },
   "source": [
    "## Permission Acquisition"
   ]
  },
  {
   "cell_type": "markdown",
   "metadata": {
    "colab_type": "text",
    "id": "S58onfDNdAmc"
   },
   "source": [
    "<!-- permission = amdex.training_can_be_executed(userid, datasets[], 'algo description')\n",
    "if(permission):\n",
    "    print(\"training can proceed\")\n",
    "else:\n",
    "    print(\"permission denied\") -->"
   ]
  },
  {
   "cell_type": "markdown",
   "metadata": {
    "colab_type": "text",
    "id": "S58onfDNdAmc"
   },
   "source": [
    "## Data Preparation"
   ]
  },
  {
   "cell_type": "code",
   "execution_count": 4,
   "metadata": {
    "colab": {},
    "colab_type": "code",
    "id": "fvj4QbzCXZCT",
    "tags": []
   },
   "outputs": [],
   "source": [
    "# define the columns for training\n",
    "train_data_inputs = train_data.copy()\n",
    "train_data_inputs.drop(columns=['RUL', 'engine_no', 'time_in_cycles'], inplace=True)\n",
    "training_columns = train_data_inputs.columns"
   ]
  },
  {
   "cell_type": "markdown",
   "metadata": {
    "colab_type": "text",
    "id": "1lQGejNWjwWO"
   },
   "source": [
    "### Windowing"
   ]
  },
  {
   "cell_type": "markdown",
   "metadata": {
    "colab_type": "text",
    "id": "KLyLG86M0Ffn"
   },
   "source": [
    "To do our model training we split the data from an engine into rolling windows so we have the dimensions (total number of rows, time steps per window, feature columns).\n",
    "\n",
    "*Engine x for window size 3:*\n",
    "\n",
    "```\n",
    "[1 2 3 4 5 6] -> [1 2 3], [2 3 4], [3 4 5], [4 5 6]\n",
    "```\n",
    "\n",
    "As labels we pick the RUL of the last value in the windowed sequence."
   ]
  },
  {
   "cell_type": "markdown",
   "metadata": {
    "colab_type": "text",
    "id": "Vt4z-bc_0Yr1"
   },
   "source": [
    "By splitting the data into windows we have to drop data samples that are smaller than the window size. This especially means we can not predict RUL values for smaller time series of engine data. An alternative would be to pad sequences so that we can use shorter ones."
   ]
  },
  {
   "cell_type": "code",
   "execution_count": 5,
   "metadata": {
    "colab": {},
    "colab_type": "code",
    "id": "D6hSngDtXC-f",
    "tags": []
   },
   "outputs": [],
   "source": [
    "WINDOW_SIZE = 80\n",
    "BATCH_SIZE = 210"
   ]
  },
  {
   "cell_type": "code",
   "execution_count": 6,
   "metadata": {
    "colab": {},
    "colab_type": "code",
    "id": "YWz7of5dXSr8",
    "tags": []
   },
   "outputs": [],
   "source": [
    "def transform_to_windowed_data(dataset, window_size, window_limit = 0, verbose = True):\n",
    "  \"\"\"Transform the dataset into input windows with a label.\n",
    "\n",
    "  Args:\n",
    "      dataset (DataFrame): The dataset to tranform.\n",
    "      window_size (int): The length of the windows to create.\n",
    "      window_limit (int): The max windows to create for a data subset.\n",
    "\n",
    "  Returns:\n",
    "      (numpy.array, numpy.array): A tuple of features and labels.\n",
    "  \"\"\"\n",
    "  features = []\n",
    "  labels = []\n",
    "\n",
    "  dataset = dataset.set_index('time_in_cycles')\n",
    "  data_per_engine = dataset.groupby('engine_no')\n",
    "\n",
    "  for engine_no, engine_data in data_per_engine:\n",
    "      # skip if the engines cycles are too few\n",
    "      if len(engine_data) < window_size + window_limit -1:\n",
    "        continue\n",
    "\n",
    "      if window_limit != 0:\n",
    "        window_count = window_limit\n",
    "      else:\n",
    "        window_count = len(engine_data) - window_size\n",
    "\n",
    "      for i in range(0, window_count):\n",
    "        # take the last x cycles where x is the window size\n",
    "        start = -window_size - i\n",
    "        end = len(engine_data) - i\n",
    "        inputs = engine_data.iloc[start:end]\n",
    "        # use the RUL of the last cycle as label\n",
    "        outputs = engine_data.iloc[end - 1, -1]\n",
    "\n",
    "        inputs = inputs.drop(['engine_no', 'RUL'], axis=1)\n",
    "\n",
    "        features.append(inputs.values)\n",
    "        labels.append(outputs)\n",
    "\n",
    "  features = np.array(features)\n",
    "  labels = np.array(labels)\n",
    "  labels = np.expand_dims(labels, axis=1)\n",
    "\n",
    "  if verbose:\n",
    "    print(\"{} features with shape {}\".format(len(features), features[0].shape))\n",
    "    print(\"{} labels with shape {}\".format(len(labels), labels.shape))\n",
    "\n",
    "  return features, labels"
   ]
  },
  {
   "cell_type": "code",
   "execution_count": 11,
   "metadata": {
    "colab": {
     "base_uri": "https://localhost:8080/",
     "height": 119
    },
    "colab_type": "code",
    "executionInfo": {
     "elapsed": 41696,
     "status": "ok",
     "timestamp": 1582126828101,
     "user": {
      "displayName": "Matthias Lau",
      "photoUrl": "https://lh3.googleusercontent.com/a-/AAuE7mC6WRAXJoMqa4-OAv4EwNhkeeciSt5GDAExs2YBOg=s64",
      "userId": "11790472444495897059"
     },
     "user_tz": -60
    },
    "id": "NZR_quyYaept",
    "outputId": "771aa845-d484-4225-ff52-36388f5e166e",
    "tags": []
   },
   "outputs": [
    {
     "name": "stdout",
     "output_type": "stream",
     "text": [
      "1256 features with shape (80, 11)\n",
      "1256 labels with shape (1256, 1)\n",
      "2601 features with shape (80, 11)\n",
      "2601 labels with shape (2601, 1)\n",
      "2982 features with shape (80, 11)\n",
      "2982 labels with shape (2982, 1)\n"
     ]
    }
   ],
   "source": [
    "x_train, y_train = transform_to_windowed_data(train_data, WINDOW_SIZE)\n",
    "x_val, y_val = transform_to_windowed_data(val_data, WINDOW_SIZE)\n",
    "x_test, y_test = transform_to_windowed_data(test_data, WINDOW_SIZE)"
   ]
  },
  {
   "cell_type": "markdown",
   "metadata": {
    "colab_type": "text",
    "id": "QQV2DnpgddIq",
    "tags": []
   },
   "source": [
    "### Standardization"
   ]
  },
  {
   "cell_type": "markdown",
   "metadata": {
    "colab_type": "text",
    "id": "Gi5NG6Vfw-yW"
   },
   "source": [
    "The data scaling will be embedded in the model so it could be easily applied to inference as well."
   ]
  },
  {
   "cell_type": "markdown",
   "metadata": {
    "colab_type": "text",
    "id": "HP84vJPW2m0I"
   },
   "source": [
    "### Response Clipping"
   ]
  },
  {
   "cell_type": "markdown",
   "metadata": {
    "colab_type": "text",
    "id": "IaMkCZCH2zpV"
   },
   "source": [
    "Since the degradation in a system will generally remain negligible until after some period of operation time the early and higher RUL values are probably unreasonable. We could tackle this by clipping the RUL values.\n",
    "\n",
    "That means we are fine with our model not correctly predicting RUL values above the *rul_clip_limit*. The model will still correctly identify that these engines but it is kind of cheating as the error for these engines improves."
   ]
  },
  {
   "cell_type": "code",
   "execution_count": 12,
   "metadata": {
    "colab": {},
    "colab_type": "code",
    "id": "qsK2hp6w2uLj",
    "tags": []
   },
   "outputs": [],
   "source": [
    "# clip RUL values\n",
    "rul_clip_limit = 110\n",
    "\n",
    "y_train = y_train.clip(max=rul_clip_limit)\n",
    "y_val = y_val.clip(max=rul_clip_limit)\n",
    "y_test = y_test.clip(max=rul_clip_limit)"
   ]
  },
  {
   "cell_type": "markdown",
   "metadata": {
    "colab_type": "text",
    "id": "gh2YaxoKsHiB"
   },
   "source": [
    "## Model Training"
   ]
  },
  {
   "cell_type": "markdown",
   "metadata": {
    "colab_type": "text",
    "id": "d9dwxhK5a0i6"
   },
   "source": [
    "### Helpers"
   ]
  },
  {
   "cell_type": "code",
   "execution_count": 13,
   "metadata": {
    "colab": {},
    "colab_type": "code",
    "id": "hREayPLsHGzA",
    "tags": []
   },
   "outputs": [],
   "source": [
    "# RMSE implementation\n",
    "def root_mean_squared_error(y_true, y_pred):\n",
    "    return np.sqrt(((y_true - y_pred) ** 2).mean())"
   ]
  },
  {
   "cell_type": "markdown",
   "metadata": {
    "colab_type": "text",
    "id": "9YgTLRF4avmo"
   },
   "source": [
    "### Model Definition"
   ]
  },
  {
   "cell_type": "code",
   "execution_count": 14,
   "metadata": {
    "colab": {},
    "colab_type": "code",
    "id": "geHwiNH1LmE4",
    "tags": []
   },
   "outputs": [],
   "source": [
    "class TurbofanModel(nn.Module):\n",
    "    def __init__(self, train_mean, train_std):\n",
    "        super().__init__()\n",
    "        \n",
    "        self.train_mean = train_mean\n",
    "        self.train_std = train_std\n",
    "\n",
    "        self.fc1 = nn.Linear(len(training_columns), 24)\n",
    "        self.fc2 = nn.Linear(24, 24)\n",
    "        self.fc3 = nn.Linear(24, 24)\n",
    "        self.fc4 = nn.Linear(24, 1)\n",
    "\n",
    "    def to(self, device):\n",
    "        super().to(device)\n",
    "        self.train_mean = self.train_mean.to(device)\n",
    "        self.train_std = self.train_std.to(device)\n",
    "        \n",
    "        return self\n",
    "        \n",
    "    def forward(self, x):\n",
    "        # scale the input\n",
    "        x = (x - self.train_mean) / self.train_std\n",
    "\n",
    "        x = F.relu(self.fc1(x))\n",
    "        x = F.relu(self.fc2(x))\n",
    "        x = F.relu(self.fc3(x))\n",
    "        x = self.fc4(x)\n",
    "        x = x[:, -1, :]\n",
    "        \n",
    "        return x"
   ]
  },
  {
   "cell_type": "markdown",
   "metadata": {
    "colab_type": "text",
    "id": "WSJfEvrZdUwD"
   },
   "source": [
    "### Prepare Data Loader"
   ]
  },
  {
   "cell_type": "code",
   "execution_count": 15,
   "metadata": {
    "colab": {},
    "colab_type": "code",
    "id": "UmkrWZgRfxQ1",
    "tags": []
   },
   "outputs": [],
   "source": [
    "# transform to torch tensor\n",
    "tensor_x_train = torch.Tensor(x_train)\n",
    "tensor_y_train = torch.Tensor(y_train)\n",
    "tensor_x_val = torch.Tensor(x_val)\n",
    "tensor_y_val = torch.Tensor(y_val)\n",
    "tensor_x_test = torch.Tensor(x_test)\n",
    "tensor_y_test = torch.Tensor(y_test)\n",
    "\n",
    "# create datasets for train, test and validation\n",
    "train_dataset = torch.utils.data.TensorDataset(tensor_x_train, tensor_y_train)\n",
    "val_dataset = torch.utils.data.TensorDataset(tensor_x_val, tensor_y_val)\n",
    "test_dataset = torch.utils.data.TensorDataset(tensor_x_test, tensor_y_test)\n",
    "\n",
    "# create data loaders\n",
    "train_loader = torch.utils.data.DataLoader(train_dataset, batch_size=BATCH_SIZE)\n",
    "val_loader = torch.utils.data.DataLoader(val_dataset, batch_size=BATCH_SIZE)\n",
    "test_loader = torch.utils.data.DataLoader(test_dataset, batch_size=BATCH_SIZE)"
   ]
  },
  {
   "cell_type": "markdown",
   "metadata": {
    "colab_type": "text",
    "id": "mBCUoRAZd4ZE"
   },
   "source": [
    "### Initial Training"
   ]
  },
  {
   "cell_type": "code",
   "execution_count": 16,
   "metadata": {
    "colab": {},
    "colab_type": "code",
    "id": "KvrLlKWgLp2u",
    "tags": []
   },
   "outputs": [],
   "source": [
    "def train(model, device, train_loader, optimizer, criterion):\n",
    "    model.train()\n",
    "\n",
    "    running_loss = 0\n",
    "\n",
    "    for batch_idx, (data, target) in enumerate(train_loader):\n",
    "        data, target = data.to(device), target.to(device)\n",
    "        optimizer.zero_grad()\n",
    "\n",
    "        output = model(data)\n",
    "\n",
    "        loss = criterion(output, target)\n",
    "        loss.backward()\n",
    "        optimizer.step()\n",
    "\n",
    "        running_loss += loss.item() * data.size(0)\n",
    "\n",
    "    epoch_loss = running_loss / len(train_loader.dataset)\n",
    "    \n",
    "    return epoch_loss"
   ]
  },
  {
   "cell_type": "code",
   "execution_count": 17,
   "metadata": {
    "colab": {},
    "colab_type": "code",
    "id": "O1ANRoq_JRF8",
    "tags": []
   },
   "outputs": [],
   "source": [
    "def test(model, device, test_loader, criterion):\n",
    "    model.eval()\n",
    "\n",
    "    test_loss = 0\n",
    "\n",
    "    with torch.no_grad():\n",
    "        for data, target in test_loader:\n",
    "            data, target = data.to(device), target.to(device)\n",
    "\n",
    "            output = model(data)\n",
    "\n",
    "            test_loss += criterion(output, target).item() * data.size(0)\n",
    "\n",
    "    test_loss /= len(test_loader.dataset)\n",
    "\n",
    "    return test_loss"
   ]
  },
  {
   "cell_type": "code",
   "execution_count": 18,
   "metadata": {
    "colab": {
     "base_uri": "https://localhost:8080/",
     "height": 1000
    },
    "colab_type": "code",
    "executionInfo": {
     "elapsed": 66010,
     "status": "ok",
     "timestamp": 1582126852618,
     "user": {
      "displayName": "Matthias Lau",
      "photoUrl": "https://lh3.googleusercontent.com/a-/AAuE7mC6WRAXJoMqa4-OAv4EwNhkeeciSt5GDAExs2YBOg=s64",
      "userId": "11790472444495897059"
     },
     "user_tz": -60
    },
    "id": "lqghpzITGwnd",
    "outputId": "248bc826-8389-44dc-d2b5-d565f913ceb6",
    "tags": []
   },
   "outputs": [
    {
     "name": "stdout",
     "output_type": "stream",
     "text": [
      "Epoch: 1/280\tloss: 63.3997\tval_loss: 84.2060\n",
      "Epoch: 2/280\tloss: 63.3674\tval_loss: 84.1719\n",
      "Epoch: 3/280\tloss: 63.3322\tval_loss: 84.1328\n",
      "Epoch: 4/280\tloss: 63.2889\tval_loss: 84.0843\n",
      "Epoch: 5/280\tloss: 63.2314\tval_loss: 84.0187\n",
      "Epoch: 6/280\tloss: 63.1485\tval_loss: 83.9190\n",
      "Epoch: 7/280\tloss: 63.0252\tval_loss: 83.7683\n",
      "Epoch: 8/280\tloss: 62.8468\tval_loss: 83.5528\n",
      "Epoch: 9/280\tloss: 62.5990\tval_loss: 83.2520\n",
      "Epoch: 10/280\tloss: 62.2609\tval_loss: 82.8339\n",
      "Epoch: 11/280\tloss: 61.8031\tval_loss: 82.2520\n",
      "Epoch: 12/280\tloss: 61.1944\tval_loss: 81.4506\n",
      "Epoch: 13/280\tloss: 60.4030\tval_loss: 80.3729\n",
      "Epoch: 14/280\tloss: 59.4161\tval_loss: 78.9566\n",
      "Epoch: 15/280\tloss: 58.2268\tval_loss: 77.1487\n",
      "Epoch: 16/280\tloss: 56.8635\tval_loss: 74.8963\n",
      "Epoch: 17/280\tloss: 55.2882\tval_loss: 72.1321\n",
      "Epoch: 18/280\tloss: 53.4713\tval_loss: 68.7925\n",
      "Epoch: 19/280\tloss: 51.3658\tval_loss: 64.8055\n",
      "Epoch: 20/280\tloss: 48.8489\tval_loss: 60.0269\n",
      "Epoch: 21/280\tloss: 45.7935\tval_loss: 54.2708\n",
      "Epoch: 22/280\tloss: 42.0923\tval_loss: 47.3483\n",
      "Epoch: 23/280\tloss: 37.6504\tval_loss: 39.2532\n",
      "Epoch: 24/280\tloss: 32.8639\tval_loss: 31.3259\n",
      "Epoch: 25/280\tloss: 29.6916\tval_loss: 27.0093\n",
      "Epoch: 26/280\tloss: 28.4051\tval_loss: 26.0129\n",
      "Epoch: 27/280\tloss: 27.9983\tval_loss: 25.7616\n",
      "Epoch: 28/280\tloss: 27.5888\tval_loss: 25.3757\n",
      "Epoch: 29/280\tloss: 27.0809\tval_loss: 24.9400\n",
      "Epoch: 30/280\tloss: 26.5765\tval_loss: 24.5692\n",
      "Epoch: 31/280\tloss: 26.1229\tval_loss: 24.2611\n",
      "Epoch: 32/280\tloss: 25.7169\tval_loss: 23.9816\n",
      "Epoch: 33/280\tloss: 25.3449\tval_loss: 23.6967\n",
      "Epoch: 34/280\tloss: 24.9963\tval_loss: 23.3739\n",
      "Epoch: 35/280\tloss: 24.6486\tval_loss: 23.0200\n",
      "Epoch: 36/280\tloss: 24.2997\tval_loss: 22.6558\n",
      "Epoch: 37/280\tloss: 23.9614\tval_loss: 22.3199\n",
      "Epoch: 38/280\tloss: 23.6305\tval_loss: 22.0027\n",
      "Epoch: 39/280\tloss: 23.3072\tval_loss: 21.7055\n",
      "Epoch: 40/280\tloss: 22.9934\tval_loss: 21.4259\n",
      "Epoch: 41/280\tloss: 22.6895\tval_loss: 21.1710\n",
      "Epoch: 42/280\tloss: 22.3955\tval_loss: 20.9364\n",
      "Epoch: 43/280\tloss: 22.1077\tval_loss: 20.7173\n",
      "Epoch: 44/280\tloss: 21.8239\tval_loss: 20.5061\n",
      "Epoch: 45/280\tloss: 21.5440\tval_loss: 20.3025\n",
      "Epoch: 46/280\tloss: 21.2647\tval_loss: 20.1119\n",
      "Epoch: 47/280\tloss: 20.9844\tval_loss: 19.9323\n",
      "Epoch: 48/280\tloss: 20.7066\tval_loss: 19.7486\n",
      "Epoch: 49/280\tloss: 20.4304\tval_loss: 19.5643\n",
      "Epoch: 50/280\tloss: 20.1599\tval_loss: 19.3762\n",
      "Epoch: 51/280\tloss: 19.8922\tval_loss: 19.1772\n",
      "Epoch: 52/280\tloss: 19.6309\tval_loss: 18.9760\n",
      "Epoch: 53/280\tloss: 19.3828\tval_loss: 18.7842\n",
      "Epoch: 54/280\tloss: 19.1476\tval_loss: 18.6050\n",
      "Epoch: 55/280\tloss: 18.9220\tval_loss: 18.4391\n",
      "Epoch: 56/280\tloss: 18.7068\tval_loss: 18.3004\n",
      "Epoch: 57/280\tloss: 18.5033\tval_loss: 18.1828\n",
      "Epoch: 58/280\tloss: 18.3066\tval_loss: 18.0802\n",
      "Epoch: 59/280\tloss: 18.1213\tval_loss: 17.9731\n",
      "Epoch: 60/280\tloss: 17.9446\tval_loss: 17.8624\n",
      "Epoch: 61/280\tloss: 17.7764\tval_loss: 17.7515\n",
      "Epoch: 62/280\tloss: 17.6147\tval_loss: 17.6454\n",
      "Epoch: 63/280\tloss: 17.4595\tval_loss: 17.5420\n",
      "Epoch: 64/280\tloss: 17.3131\tval_loss: 17.4504\n",
      "Epoch: 65/280\tloss: 17.1734\tval_loss: 17.3699\n",
      "Epoch: 66/280\tloss: 17.0434\tval_loss: 17.2885\n",
      "Epoch: 67/280\tloss: 16.9205\tval_loss: 17.1971\n",
      "Epoch: 68/280\tloss: 16.8014\tval_loss: 17.1009\n",
      "Epoch: 69/280\tloss: 16.6894\tval_loss: 16.9970\n",
      "Epoch: 70/280\tloss: 16.5818\tval_loss: 16.8961\n",
      "Epoch: 71/280\tloss: 16.4788\tval_loss: 16.8172\n",
      "Epoch: 72/280\tloss: 16.3816\tval_loss: 16.7457\n",
      "Epoch: 73/280\tloss: 16.2896\tval_loss: 16.6692\n",
      "Epoch: 74/280\tloss: 16.2008\tval_loss: 16.5979\n",
      "Epoch: 75/280\tloss: 16.1184\tval_loss: 16.5495\n",
      "Epoch: 76/280\tloss: 16.0393\tval_loss: 16.4842\n",
      "Epoch: 77/280\tloss: 15.9629\tval_loss: 16.4356\n",
      "Epoch: 78/280\tloss: 15.8907\tval_loss: 16.3933\n",
      "Epoch: 79/280\tloss: 15.8212\tval_loss: 16.3615\n",
      "Epoch: 80/280\tloss: 15.7546\tval_loss: 16.3296\n",
      "Epoch: 81/280\tloss: 15.6873\tval_loss: 16.2698\n",
      "Epoch: 82/280\tloss: 15.6282\tval_loss: 16.2236\n",
      "Epoch: 83/280\tloss: 15.5713\tval_loss: 16.2005\n",
      "Epoch: 84/280\tloss: 15.5199\tval_loss: 16.1796\n",
      "Epoch: 85/280\tloss: 15.4713\tval_loss: 16.1461\n",
      "Epoch: 86/280\tloss: 15.4238\tval_loss: 16.1213\n",
      "Epoch: 87/280\tloss: 15.3784\tval_loss: 16.0939\n",
      "Epoch: 88/280\tloss: 15.3416\tval_loss: 16.1021\n",
      "Epoch: 89/280\tloss: 15.3052\tval_loss: 16.0869\n",
      "Epoch: 90/280\tloss: 15.2736\tval_loss: 16.0721\n",
      "Epoch: 91/280\tloss: 15.2433\tval_loss: 16.0588\n",
      "Epoch: 92/280\tloss: 15.2139\tval_loss: 16.0444\n",
      "Epoch: 93/280\tloss: 15.1876\tval_loss: 16.0355\n",
      "Epoch: 94/280\tloss: 15.1599\tval_loss: 16.0319\n",
      "Epoch: 95/280\tloss: 15.1323\tval_loss: 16.0299\n",
      "Epoch: 96/280\tloss: 15.1087\tval_loss: 16.0305\n",
      "Epoch: 97/280\tloss: 15.0831\tval_loss: 16.0153\n",
      "Epoch: 98/280\tloss: 15.0601\tval_loss: 16.0223\n",
      "Epoch: 99/280\tloss: 15.0346\tval_loss: 16.0038\n",
      "Epoch: 100/280\tloss: 15.0133\tval_loss: 16.0237\n",
      "Epoch: 101/280\tloss: 14.9888\tval_loss: 16.0108\n",
      "Epoch: 102/280\tloss: 14.9687\tval_loss: 16.0026\n",
      "Epoch: 103/280\tloss: 14.9509\tval_loss: 16.0169\n",
      "Epoch: 104/280\tloss: 14.9315\tval_loss: 16.0145\n",
      "Epoch: 105/280\tloss: 14.9120\tval_loss: 16.0014\n",
      "Epoch: 106/280\tloss: 14.8988\tval_loss: 16.0306\n",
      "Epoch: 107/280\tloss: 14.8783\tval_loss: 16.0151\n",
      "Epoch: 108/280\tloss: 14.8630\tval_loss: 16.0192\n",
      "Epoch: 109/280\tloss: 14.8488\tval_loss: 16.0262\n",
      "Epoch: 110/280\tloss: 14.8318\tval_loss: 16.0243\n",
      "Epoch: 111/280\tloss: 14.8201\tval_loss: 16.0312\n",
      "Epoch: 112/280\tloss: 14.8049\tval_loss: 16.0269\n",
      "Epoch: 113/280\tloss: 14.7953\tval_loss: 16.0406\n",
      "Epoch: 114/280\tloss: 14.7782\tval_loss: 16.0181\n",
      "Epoch: 115/280\tloss: 14.7691\tval_loss: 16.0330\n",
      "Epoch: 116/280\tloss: 14.7600\tval_loss: 16.0402\n",
      "Epoch: 117/280\tloss: 14.7446\tval_loss: 16.0122\n",
      "Epoch: 118/280\tloss: 14.7382\tval_loss: 16.0313\n",
      "Epoch: 119/280\tloss: 14.7266\tval_loss: 16.0307\n",
      "Epoch: 120/280\tloss: 14.7134\tval_loss: 16.0047\n",
      "Epoch: 121/280\tloss: 14.7101\tval_loss: 16.0297\n",
      "Epoch: 122/280\tloss: 14.6950\tval_loss: 16.0130\n",
      "Epoch: 123/280\tloss: 14.6880\tval_loss: 16.0237\n",
      "Epoch: 124/280\tloss: 14.6780\tval_loss: 16.0174\n",
      "Epoch: 125/280\tloss: 14.6696\tval_loss: 16.0229\n",
      "Epoch: 126/280\tloss: 14.6597\tval_loss: 16.0086\n",
      "Epoch: 127/280\tloss: 14.6598\tval_loss: 16.0362\n",
      "Epoch: 128/280\tloss: 14.6423\tval_loss: 16.0031\n",
      "Epoch: 129/280\tloss: 14.6432\tval_loss: 16.0391\n",
      "Epoch: 130/280\tloss: 14.6256\tval_loss: 16.0173\n",
      "Epoch: 131/280\tloss: 14.6265\tval_loss: 16.0416\n",
      "Epoch: 132/280\tloss: 14.6106\tval_loss: 16.0161\n",
      "Epoch: 133/280\tloss: 14.6147\tval_loss: 16.0491\n",
      "Epoch: 134/280\tloss: 14.5976\tval_loss: 16.0316\n",
      "Epoch: 135/280\tloss: 14.5974\tval_loss: 16.0487\n",
      "Epoch: 136/280\tloss: 14.5881\tval_loss: 16.0460\n",
      "Epoch: 137/280\tloss: 14.5811\tval_loss: 16.0463\n",
      "Epoch: 138/280\tloss: 14.5790\tval_loss: 16.0530\n",
      "Epoch: 139/280\tloss: 14.5706\tval_loss: 16.0549\n",
      "Epoch: 140/280\tloss: 14.5652\tval_loss: 16.0594\n",
      "Epoch: 141/280\tloss: 14.5601\tval_loss: 16.0645\n",
      "Epoch: 142/280\tloss: 14.5545\tval_loss: 16.0650\n",
      "Epoch: 143/280\tloss: 14.5466\tval_loss: 16.0592\n",
      "Epoch: 144/280\tloss: 14.5483\tval_loss: 16.0737\n",
      "Epoch: 145/280\tloss: 14.5374\tval_loss: 16.0563\n",
      "Epoch: 146/280\tloss: 14.5409\tval_loss: 16.0841\n",
      "Epoch: 147/280\tloss: 14.5250\tval_loss: 16.0595\n",
      "Epoch: 148/280\tloss: 14.5295\tval_loss: 16.0865\n",
      "Epoch: 149/280\tloss: 14.5173\tval_loss: 16.0748\n",
      "Epoch: 150/280\tloss: 14.5117\tval_loss: 16.0722\n",
      "Epoch: 151/280\tloss: 14.5165\tval_loss: 16.0946\n",
      "Epoch: 152/280\tloss: 14.5018\tval_loss: 16.0683\n",
      "Epoch: 153/280\tloss: 14.5048\tval_loss: 16.0894\n",
      "Epoch: 154/280\tloss: 14.4940\tval_loss: 16.0812\n",
      "Epoch: 155/280\tloss: 14.4889\tval_loss: 16.0751\n",
      "Epoch: 156/280\tloss: 14.4916\tval_loss: 16.0918\n",
      "Epoch: 157/280\tloss: 14.4809\tval_loss: 16.0785\n",
      "Epoch: 158/280\tloss: 14.4824\tval_loss: 16.0941\n",
      "Epoch: 159/280\tloss: 14.4706\tval_loss: 16.0837\n",
      "Epoch: 160/280\tloss: 14.4704\tval_loss: 16.0922\n",
      "Epoch: 161/280\tloss: 14.4646\tval_loss: 16.0842\n",
      "Epoch: 162/280\tloss: 14.4659\tval_loss: 16.0981\n",
      "Epoch: 163/280\tloss: 14.4549\tval_loss: 16.0843\n",
      "Epoch: 164/280\tloss: 14.4580\tval_loss: 16.0955\n",
      "Epoch: 165/280\tloss: 14.4480\tval_loss: 16.0820\n",
      "Epoch: 166/280\tloss: 14.4528\tval_loss: 16.1020\n",
      "Epoch: 167/280\tloss: 14.4407\tval_loss: 16.0813\n",
      "Epoch: 168/280\tloss: 14.4443\tval_loss: 16.0936\n",
      "Epoch: 169/280\tloss: 14.4334\tval_loss: 16.0792\n",
      "Epoch: 170/280\tloss: 14.4403\tval_loss: 16.0980\n",
      "Epoch: 171/280\tloss: 14.4272\tval_loss: 16.0797\n",
      "Epoch: 172/280\tloss: 14.4296\tval_loss: 16.0880\n",
      "Epoch: 173/280\tloss: 14.4224\tval_loss: 16.0849\n",
      "Epoch: 174/280\tloss: 14.4196\tval_loss: 16.0837\n",
      "Epoch: 175/280\tloss: 14.4225\tval_loss: 16.0895\n",
      "Epoch: 176/280\tloss: 14.4113\tval_loss: 16.0728\n",
      "Epoch: 177/280\tloss: 14.4240\tval_loss: 16.1054\n"
     ]
    },
    {
     "name": "stdout",
     "output_type": "stream",
     "text": [
      "Epoch: 178/280\tloss: 14.4036\tval_loss: 16.0710\n",
      "Epoch: 179/280\tloss: 14.4139\tval_loss: 16.0931\n",
      "Epoch: 180/280\tloss: 14.3967\tval_loss: 16.0739\n",
      "Epoch: 181/280\tloss: 14.4044\tval_loss: 16.0858\n",
      "Epoch: 182/280\tloss: 14.3919\tval_loss: 16.0699\n",
      "Epoch: 183/280\tloss: 14.4057\tval_loss: 16.0975\n",
      "Epoch: 184/280\tloss: 14.3848\tval_loss: 16.0687\n",
      "Epoch: 185/280\tloss: 14.3976\tval_loss: 16.0932\n",
      "Epoch: 186/280\tloss: 14.3781\tval_loss: 16.0714\n",
      "Epoch: 187/280\tloss: 14.3816\tval_loss: 16.0787\n",
      "Epoch: 188/280\tloss: 14.3815\tval_loss: 16.0823\n",
      "Epoch: 189/280\tloss: 14.3767\tval_loss: 16.0743\n",
      "Epoch: 190/280\tloss: 14.3741\tval_loss: 16.0768\n",
      "Epoch: 191/280\tloss: 14.3704\tval_loss: 16.0796\n",
      "Epoch: 192/280\tloss: 14.3642\tval_loss: 16.0722\n",
      "Epoch: 193/280\tloss: 14.3729\tval_loss: 16.0855\n",
      "Epoch: 194/280\tloss: 14.3580\tval_loss: 16.0618\n",
      "Epoch: 195/280\tloss: 14.3702\tval_loss: 16.0876\n",
      "Epoch: 196/280\tloss: 14.3503\tval_loss: 16.0672\n",
      "Epoch: 197/280\tloss: 14.3557\tval_loss: 16.0748\n",
      "Epoch: 198/280\tloss: 14.3506\tval_loss: 16.0727\n",
      "Epoch: 199/280\tloss: 14.3501\tval_loss: 16.0727\n",
      "Epoch: 200/280\tloss: 14.3436\tval_loss: 16.0690\n",
      "Epoch: 201/280\tloss: 14.3474\tval_loss: 16.0761\n",
      "Epoch: 202/280\tloss: 14.3371\tval_loss: 16.0617\n",
      "Epoch: 203/280\tloss: 14.3497\tval_loss: 16.0857\n",
      "Epoch: 204/280\tloss: 14.3298\tval_loss: 16.0620\n",
      "Epoch: 205/280\tloss: 14.3387\tval_loss: 16.0789\n",
      "Epoch: 206/280\tloss: 14.3273\tval_loss: 16.0663\n",
      "Epoch: 207/280\tloss: 14.3292\tval_loss: 16.0710\n",
      "Epoch: 208/280\tloss: 14.3265\tval_loss: 16.0714\n",
      "Epoch: 209/280\tloss: 14.3223\tval_loss: 16.0678\n",
      "Epoch: 210/280\tloss: 14.3267\tval_loss: 16.0765\n",
      "Epoch: 211/280\tloss: 14.3132\tval_loss: 16.0591\n",
      "Epoch: 212/280\tloss: 14.3255\tval_loss: 16.0804\n",
      "Epoch: 213/280\tloss: 14.3092\tval_loss: 16.0615\n",
      "Epoch: 214/280\tloss: 14.3157\tval_loss: 16.0712\n",
      "Epoch: 215/280\tloss: 14.3056\tval_loss: 16.0609\n",
      "Epoch: 216/280\tloss: 14.3141\tval_loss: 16.0770\n",
      "Epoch: 217/280\tloss: 14.3017\tval_loss: 16.0635\n",
      "Epoch: 218/280\tloss: 14.3078\tval_loss: 16.0759\n",
      "Epoch: 219/280\tloss: 14.2964\tval_loss: 16.0662\n",
      "Epoch: 220/280\tloss: 14.3065\tval_loss: 16.0832\n",
      "Epoch: 221/280\tloss: 14.2927\tval_loss: 16.0707\n",
      "Epoch: 222/280\tloss: 14.2977\tval_loss: 16.0823\n",
      "Epoch: 223/280\tloss: 14.2869\tval_loss: 16.0727\n",
      "Epoch: 224/280\tloss: 14.2963\tval_loss: 16.0873\n",
      "Epoch: 225/280\tloss: 14.2843\tval_loss: 16.0781\n",
      "Epoch: 226/280\tloss: 14.2910\tval_loss: 16.0925\n",
      "Epoch: 227/280\tloss: 14.2785\tval_loss: 16.0809\n",
      "Epoch: 228/280\tloss: 14.2852\tval_loss: 16.0939\n",
      "Epoch: 229/280\tloss: 14.2761\tval_loss: 16.0888\n",
      "Epoch: 230/280\tloss: 14.2787\tval_loss: 16.0945\n",
      "Epoch: 231/280\tloss: 14.2717\tval_loss: 16.0932\n",
      "Epoch: 232/280\tloss: 14.2785\tval_loss: 16.1041\n",
      "Epoch: 233/280\tloss: 14.2656\tval_loss: 16.0869\n",
      "Epoch: 234/280\tloss: 14.2710\tval_loss: 16.1009\n",
      "Epoch: 235/280\tloss: 14.2627\tval_loss: 16.0986\n",
      "Epoch: 236/280\tloss: 14.2651\tval_loss: 16.1012\n",
      "Epoch: 237/280\tloss: 14.2582\tval_loss: 16.0999\n",
      "Epoch: 238/280\tloss: 14.2622\tval_loss: 16.1086\n",
      "Epoch: 239/280\tloss: 14.2536\tval_loss: 16.1028\n",
      "Epoch: 240/280\tloss: 14.2589\tval_loss: 16.1166\n",
      "Epoch: 241/280\tloss: 14.2449\tval_loss: 16.1015\n",
      "Epoch: 242/280\tloss: 14.2549\tval_loss: 16.1173\n",
      "Epoch: 243/280\tloss: 14.2440\tval_loss: 16.1103\n",
      "Epoch: 244/280\tloss: 14.2469\tval_loss: 16.1194\n",
      "Epoch: 245/280\tloss: 14.2388\tval_loss: 16.1156\n",
      "Epoch: 246/280\tloss: 14.2422\tval_loss: 16.1230\n",
      "Epoch: 247/280\tloss: 14.2345\tval_loss: 16.1202\n",
      "Epoch: 248/280\tloss: 14.2374\tval_loss: 16.1310\n",
      "Epoch: 249/280\tloss: 14.2282\tval_loss: 16.1227\n",
      "Epoch: 250/280\tloss: 14.2311\tval_loss: 16.1336\n",
      "Epoch: 251/280\tloss: 14.2249\tval_loss: 16.1268\n",
      "Epoch: 252/280\tloss: 14.2248\tval_loss: 16.1329\n",
      "Epoch: 253/280\tloss: 14.2183\tval_loss: 16.1331\n",
      "Epoch: 254/280\tloss: 14.2191\tval_loss: 16.1389\n",
      "Epoch: 255/280\tloss: 14.2120\tval_loss: 16.1338\n",
      "Epoch: 256/280\tloss: 14.2191\tval_loss: 16.1523\n",
      "Epoch: 257/280\tloss: 14.2054\tval_loss: 16.1399\n",
      "Epoch: 258/280\tloss: 14.2037\tval_loss: 16.1437\n",
      "Epoch: 259/280\tloss: 14.2001\tval_loss: 16.1438\n",
      "Epoch: 260/280\tloss: 14.2027\tval_loss: 16.1511\n",
      "Epoch: 261/280\tloss: 14.1917\tval_loss: 16.1459\n",
      "Epoch: 262/280\tloss: 14.1948\tval_loss: 16.1543\n",
      "Epoch: 263/280\tloss: 14.1861\tval_loss: 16.1457\n",
      "Epoch: 264/280\tloss: 14.1964\tval_loss: 16.1685\n",
      "Epoch: 265/280\tloss: 14.1748\tval_loss: 16.1448\n",
      "Epoch: 266/280\tloss: 14.1878\tval_loss: 16.1738\n",
      "Epoch: 267/280\tloss: 14.1716\tval_loss: 16.1558\n",
      "Epoch: 268/280\tloss: 14.1673\tval_loss: 16.1483\n",
      "Epoch: 269/280\tloss: 14.1790\tval_loss: 16.1797\n",
      "Epoch: 270/280\tloss: 14.1603\tval_loss: 16.1606\n",
      "Epoch: 271/280\tloss: 14.1558\tval_loss: 16.1549\n",
      "Epoch: 272/280\tloss: 14.1648\tval_loss: 16.1814\n",
      "Epoch: 273/280\tloss: 14.1506\tval_loss: 16.1687\n",
      "Epoch: 274/280\tloss: 14.1441\tval_loss: 16.1620\n",
      "Epoch: 275/280\tloss: 14.1507\tval_loss: 16.1815\n",
      "Epoch: 276/280\tloss: 14.1402\tval_loss: 16.1745\n",
      "Epoch: 277/280\tloss: 14.1341\tval_loss: 16.1693\n",
      "Epoch: 278/280\tloss: 14.1367\tval_loss: 16.1823\n",
      "Epoch: 279/280\tloss: 14.1282\tval_loss: 16.1754\n",
      "Epoch: 280/280\tloss: 14.1259\tval_loss: 16.1745\n"
     ]
    }
   ],
   "source": [
    "torch.manual_seed(1)\n",
    "np.random.seed(51)\n",
    "\n",
    "epochs = 280\n",
    "\n",
    "use_cuda = torch.cuda.is_available()\n",
    "device = torch.device(\"cuda\" if use_cuda else \"cpu\")\n",
    "\n",
    "mean = tensor_x_train.mean(0)\n",
    "std = tensor_x_train.std(0)\n",
    "model = TurbofanModel(mean, std).to(device)\n",
    "\n",
    "criterion = nn.L1Loss() # mae\n",
    "optimizer = optim.Adam(model.parameters())\n",
    "\n",
    "history = {}\n",
    "history['epoch'] = []\n",
    "history['loss'] = []\n",
    "history['val_loss'] = []\n",
    "\n",
    "for epoch in range(1, epochs + 1):\n",
    "    train_loss = train(model, device, train_loader, optimizer, criterion)\n",
    "    val_loss = test(model, device, val_loader, criterion)\n",
    "\n",
    "    print('Epoch: {}/{}\\tloss: {:.4f}\\tval_loss: {:.4f}'.format(epoch, epochs, train_loss, val_loss))\n",
    "\n",
    "    history['epoch'].append(epoch)\n",
    "    history['loss'].append(train_loss)\n",
    "    history['val_loss'].append(val_loss)"
   ]
  },
  {
   "cell_type": "code",
   "execution_count": 19,
   "metadata": {
    "colab": {
     "base_uri": "https://localhost:8080/",
     "height": 302
    },
    "colab_type": "code",
    "executionInfo": {
     "elapsed": 66488,
     "status": "ok",
     "timestamp": 1582126853128,
     "user": {
      "displayName": "Matthias Lau",
      "photoUrl": "https://lh3.googleusercontent.com/a-/AAuE7mC6WRAXJoMqa4-OAv4EwNhkeeciSt5GDAExs2YBOg=s64",
      "userId": "11790472444495897059"
     },
     "user_tz": -60
    },
    "id": "Ygq-M1r_RLOT",
    "outputId": "615ad0e5-1445-44ec-beba-34bfc5b08eea",
    "tags": []
   },
   "outputs": [
    {
     "data": {
      "text/plain": [
       "<matplotlib.legend.Legend at 0x15f9277f0>"
      ]
     },
     "execution_count": 19,
     "metadata": {},
     "output_type": "execute_result"
    },
    {
     "data": {
      "image/png": "[encoded data removed]",
      "text/plain": [
       "<Figure size 640x480 with 1 Axes>"
      ]
     },
     "metadata": {},
     "output_type": "display_data"
    }
   ],
   "source": [
    "plt.figure()\n",
    "plt.xlabel('Epoch')\n",
    "plt.plot(history['epoch'], np.array(history['loss']), label='Train Loss')\n",
    "plt.plot(history['epoch'], np.array(history['val_loss']), label = 'Validation loss')\n",
    "plt.legend()"
   ]
  },
  {
   "cell_type": "markdown",
   "metadata": {
    "colab_type": "text",
    "id": "hKzWYHzmUX-C"
   },
   "source": [
    "## Model Evaluation"
   ]
  },
  {
   "cell_type": "code",
   "execution_count": 20,
   "metadata": {
    "colab": {
     "base_uri": "https://localhost:8080/",
     "height": 336
    },
    "colab_type": "code",
    "executionInfo": {
     "elapsed": 67746,
     "status": "ok",
     "timestamp": 1582126854416,
     "user": {
      "displayName": "Matthias Lau",
      "photoUrl": "https://lh3.googleusercontent.com/a-/AAuE7mC6WRAXJoMqa4-OAv4EwNhkeeciSt5GDAExs2YBOg=s64",
      "userId": "11790472444495897059"
     },
     "user_tz": -60
    },
    "id": "7OcTYtNhEizF",
    "outputId": "17a34af8-bab4-4d22-ced6-e18dab2d7db6",
    "tags": []
   },
   "outputs": [
    {
     "name": "stdout",
     "output_type": "stream",
     "text": [
      "Testing set RMSE:    19.75\n",
      "Validation set RMSE:   20.09\n",
      "Training set RMSE:   18.46\n"
     ]
    },
    {
     "data": {
      "image/png": "[encoded data removed]",
      "text/plain": [
       "<Figure size 500x500 with 1 Axes>"
      ]
     },
     "metadata": {},
     "output_type": "display_data"
    },
    {
     "data": {
      "image/png": "[encoded data removed]",
      "text/plain": [
       "<Figure size 500x500 with 1 Axes>"
      ]
     },
     "metadata": {},
     "output_type": "display_data"
    },
    {
     "data": {
      "image/png": "[encoded data removed]",
      "text/plain": [
       "<Figure size 500x500 with 1 Axes>"
      ]
     },
     "metadata": {},
     "output_type": "display_data"
    }
   ],
   "source": [
    "def plot_res(model, test_data, test_labels, val_data, val_labels, train_data, train_labels):\n",
    "    output_test = model(test_data).to('cpu')\n",
    "    rmse_test = root_mean_squared_error(test_labels, output_test)\n",
    "    output_val = model(val_data).to('cpu')\n",
    "    rmse_val = root_mean_squared_error(val_labels, output_val)\n",
    "    output_train = model(train_data).to('cpu')\n",
    "    rmse_train = root_mean_squared_error(train_labels, output_train)\n",
    "    print(\"Testing set RMSE:  {:7.2f}\".format(rmse_test))\n",
    "    print(\"Validation set RMSE: {:7.2f}\".format(rmse_val))\n",
    "    print(\"Training set RMSE: {:7.2f}\".format(rmse_train))\n",
    "\n",
    "    test_predictions = output_test.flatten()\n",
    "    val_predictions = output_val.flatten()\n",
    "    train_predictions = output_train.flatten()\n",
    "\n",
    "    sns.displot(train_predictions - train_labels.flatten(), label=\"Train\", kde=True)\n",
    "    sns.displot(val_predictions - val_labels.flatten(), label=\"Val\", kde=True)\n",
    "    sns.displot(test_predictions - test_labels.flatten(), label=\"Test\", kde=True)\n",
    "\n",
    "    plt.xlabel(\"Prediction Error\")\n",
    "    plt.legend()\n",
    "    plt.show()\n",
    "\n",
    "tensor_x_train, tensor_x_val, tensor_x_test = tensor_x_train.to(device), tensor_x_val.to(device), tensor_x_test.to(device)\n",
    "\n",
    "with torch.no_grad():\n",
    "    plot_res(model, tensor_x_test, tensor_y_test, tensor_x_val, tensor_y_val, tensor_x_train, tensor_y_train)"
   ]
  },
  {
   "cell_type": "markdown",
   "metadata": {
    "colab_type": "text",
    "id": "pLq7_EO36swu"
   },
   "source": [
    "## Save Model"
   ]
  },
  {
   "cell_type": "code",
   "execution_count": 34,
   "metadata": {},
   "outputs": [
    {
     "data": {
      "text/plain": [
       "'/Users/pramod/Documents/GitHub/ddm-fl-project-2023/federated-learning/Turbofan-Federated-Learning-POC/notebooks'"
      ]
     },
     "execution_count": 34,
     "metadata": {},
     "output_type": "execute_result"
    }
   ],
   "source": [
    "dirname = os.getcwd()\n",
    "dirname"
   ]
  },
  {
   "cell_type": "code",
   "execution_count": 37,
   "metadata": {
    "colab": {
     "base_uri": "https://localhost:8080/",
     "height": 71
    },
    "colab_type": "code",
    "executionInfo": {
     "elapsed": 67727,
     "status": "ok",
     "timestamp": 1582126854419,
     "user": {
      "displayName": "Matthias Lau",
      "photoUrl": "https://lh3.googleusercontent.com/a-/AAuE7mC6WRAXJoMqa4-OAv4EwNhkeeciSt5GDAExs2YBOg=s64",
      "userId": "11790472444495897059"
     },
     "user_tz": -60
    },
    "id": "o9BMgIO83MKE",
    "outputId": "7a69653e-cca2-41c0-f829-c186eb19f7d8",
    "tags": []
   },
   "outputs": [],
   "source": [
    "torch.save(model.to('cpu'), \"turbofan_initial.pt\")"
   ]
  },
  {
   "cell_type": "code",
   "execution_count": 38,
   "metadata": {},
   "outputs": [
    {
     "data": {
      "text/plain": [
       "'/Users/pramod/Documents/GitHub/ddm-fl-project-2023/federated-learning/Turbofan-Federated-Learning-POC/notebooks'"
      ]
     },
     "execution_count": 38,
     "metadata": {},
     "output_type": "execute_result"
    }
   ],
   "source": [
    "pwd"
   ]
  },
  {
   "cell_type": "code",
   "execution_count": 30,
   "metadata": {
    "colab": {},
    "colab_type": "code",
    "id": "CdDev2Dy7sMc"
   },
   "outputs": [
    {
     "data": {
      "text/plain": [
       "'/Users/pramod/Documents/GitHub/ddm-fl-project-2023/federated-learning/Turbofan-Federated-Learning-POC/notebooks/../data'"
      ]
     },
     "execution_count": 30,
     "metadata": {},
     "output_type": "execute_result"
    }
   ],
   "source": []
  },
  {
   "cell_type": "code",
   "execution_count": null,
   "metadata": {},
   "outputs": [],
   "source": []
  }
 ],
 "metadata": {
  "accelerator": "GPU",
  "colab": {
   "collapsed_sections": [],
   "name": "Federated_Learning_PySyft_InitialTraining.ipynb",
   "provenance": []
  },
  "kernelspec": {
   "display_name": "Python 3 (ipykernel)",
   "language": "python",
   "name": "python3"
  },
  "language_info": {
   "codemirror_mode": {
    "name": "ipython",
    "version": 3
   },
   "file_extension": ".py",
   "mimetype": "text/x-python",
   "name": "python",
   "nbconvert_exporter": "python",
   "pygments_lexer": "ipython3",
   "version": "3.9.16"
  }
 },
 "nbformat": 4,
 "nbformat_minor": 4
}
